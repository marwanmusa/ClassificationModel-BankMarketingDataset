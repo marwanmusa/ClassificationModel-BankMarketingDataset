{
 "cells": [
  {
   "cell_type": "markdown",
   "metadata": {},
   "source": [
    "# 1. Perkenalan\n",
    "\n",
    "\n",
    "| # | Details |\n",
    "| --- | --- |\n",
    "| Name | Marwan Musa |\n",
    "| Dataset | Bank Marketing Dataset on [UCI Machine Learning Repository](https://archive.ics.uci.edu/ml/datasets/Bank+Marketing) |\n",
    "| Objective | Constructing **Classification Model** to predict if the product (bank term deposit) would be (`yes`) or not (`no`) subscribed. |"
   ]
  },
  {
   "cell_type": "markdown",
   "metadata": {},
   "source": [
    "---\n",
    "\n",
    "The data is related with direct marketing campaigns (phone calls) of a Portuguese banking institution. The classification goal is to predict if the client will subscribe a term deposit (variable y).\n",
    "\n",
    "\n",
    "Penjelasan tiap-tiap fitur di dataset :\n",
    "\n",
    "\n",
    "| Feature | Explanation |\n",
    "| --- | --- |\n",
    "| age | (numeric) |\n",
    "| job | type of job (categorical: 'admin.','blue-collar','entrepreneur','housemaid','management','retired','self-employed','services','student','technician','unemployed','unknown') | \n",
    "| marital | marital status (categorical: 'divorced','married','single','unknown'; note: 'divorced' means divorced or widowed) |\n",
    "| education | (categorical: 'basic.4y','basic.6y','basic.9y','high.school','illiterate','professional.course','university.degree','unknown') |\n",
    "| default | has credit in default? (categorical: 'no','yes','unknown') |\n",
    "| housing | has housing loan? (categorical: 'no','yes','unknown') |\n",
    "| loan | has personal loan? (categorical: 'no','yes','unknown') |\n",
    "| contact | contact communication type (categorical: 'cellular','telephone') |\n",
    "| month | last contact month of year (categorical: 'jan', 'feb', 'mar', ..., 'nov', 'dec') |\n",
    "| day_of_week | last contact day of the week (categorical: 'mon','tue','wed','thu','fri') |\n",
    "| duration | last contact duration, in seconds (numeric). Important note: this attribute highly affects the output target (e.g., if duration=0 then y='no') |\n",
    "| campaign | number of contacts performed during this campaign and for this client (numeric, includes last contact) |\n",
    "| pdays | number of days that passed by after the client was last contacted from a previous campaign (numeric; 999 means client was not previously contacted) |\n",
    "| previous | number of contacts performed before this campaign and for this client (numeric) |\n",
    "| poutcome | outcome of the previous marketing campaign (categorical: 'failure','nonexistent','success') |\n",
    "| emp.var.rate | employment variation rate - quarterly indicator (numeric) |\n",
    "| cons.price.idx | consumer price index - monthly indicator (numeric) |\n",
    "| cons.conf.idx | consumer confidence index - monthly indicator (numeric) |\n",
    "| euribor3m | euribor 3 month rate - daily indicator (numeric) |\n",
    "| nr.employed | number of employees - quarterly indicator (numeric) |\n",
    "| y | has the client subscribed a term deposit? (binary: 'yes','no') |\n",
    "\n",
    "\n",
    "\n",
    "\n",
    "Pustaka : [UCI Machine Learning Repository](https://archive.ics.uci.edu/ml/datasets/Bank+Marketing)\n",
    "\n",
    "Penelitian terkait : <br>\n",
    "S. Moro, P. Cortez and P. Rita. A Data-Driven Approach to Predict the Success of Bank Telemarketing. Decision Support Systems, Elsevier, 62:22-31, June 2014 <br>\n",
    "S. Moro, R. Laureano and P. Cortez. Using Data Mining for Bank Direct Marketing : An Application of the CRISP-DM Methodology. In P. Novais et al. (Eds.), Proceedings of the European Simulation and Modelling Conference - ESM'2011, pp. 117-121, Guimaraes, Portugal, October, 2011. EUROSIS."
   ]
  },
  {
   "cell_type": "markdown",
   "metadata": {},
   "source": [
    "# 2. Import Libraries"
   ]
  },
  {
   "cell_type": "code",
   "execution_count": 1,
   "metadata": {},
   "outputs": [],
   "source": [
    "import pandas as pd\n",
    "import numpy as np\n",
    "import seaborn as sns\n",
    "import matplotlib.pyplot as plt\n",
    "\n",
    "import warnings\n",
    "warnings.filterwarnings(\"ignore\")\n",
    "\n",
    "# For Regression Model\n",
    "from sklearn.linear_model import LogisticRegression\n",
    "from sklearn.naive_bayes import GaussianNB\n",
    "from sklearn.neighbors import KNeighborsClassifier\n",
    "from sklearn.tree import DecisionTreeClassifier\n",
    "from sklearn.pipeline import Pipeline\n",
    "from sklearn.model_selection import cross_val_score\n",
    "from sklearn.model_selection import RepeatedStratifiedKFold\n",
    "from sklearn.model_selection import GridSearchCV\n",
    "\n",
    "# Split Dataset and Standarize the Datasets\n",
    "from sklearn.model_selection import train_test_split\n",
    "from sklearn.preprocessing import StandardScaler\n",
    "from sklearn.preprocessing import MinMaxScaler\n",
    "from sklearn.preprocessing import OrdinalEncoder\n",
    "from sklearn.preprocessing import OneHotEncoder\n",
    "from sklearn.preprocessing import LabelEncoder\n",
    "from sklearn.compose import ColumnTransformer\n",
    "from imblearn.over_sampling import SMOTE \n",
    "from collections import Counter\n",
    "\n",
    "# Evaluate Regression Models\n",
    "from sklearn.metrics import accuracy_score, classification_report, roc_auc_score"
   ]
  },
  {
   "cell_type": "markdown",
   "metadata": {},
   "source": [
    "# 3. Data Loading"
   ]
  },
  {
   "cell_type": "code",
   "execution_count": 2,
   "metadata": {},
   "outputs": [
    {
     "data": {
      "text/html": [
       "<div>\n",
       "<style scoped>\n",
       "    .dataframe tbody tr th:only-of-type {\n",
       "        vertical-align: middle;\n",
       "    }\n",
       "\n",
       "    .dataframe tbody tr th {\n",
       "        vertical-align: top;\n",
       "    }\n",
       "\n",
       "    .dataframe thead th {\n",
       "        text-align: right;\n",
       "    }\n",
       "</style>\n",
       "<table border=\"1\" class=\"dataframe\">\n",
       "  <thead>\n",
       "    <tr style=\"text-align: right;\">\n",
       "      <th></th>\n",
       "      <th>age</th>\n",
       "      <th>job</th>\n",
       "      <th>marital</th>\n",
       "      <th>education</th>\n",
       "      <th>default</th>\n",
       "      <th>housing</th>\n",
       "      <th>loan</th>\n",
       "      <th>contact</th>\n",
       "      <th>month</th>\n",
       "      <th>day_of_week</th>\n",
       "      <th>...</th>\n",
       "      <th>campaign</th>\n",
       "      <th>pdays</th>\n",
       "      <th>previous</th>\n",
       "      <th>poutcome</th>\n",
       "      <th>emp.var.rate</th>\n",
       "      <th>cons.price.idx</th>\n",
       "      <th>cons.conf.idx</th>\n",
       "      <th>euribor3m</th>\n",
       "      <th>nr.employed</th>\n",
       "      <th>y</th>\n",
       "    </tr>\n",
       "  </thead>\n",
       "  <tbody>\n",
       "    <tr>\n",
       "      <th>0</th>\n",
       "      <td>56</td>\n",
       "      <td>housemaid</td>\n",
       "      <td>married</td>\n",
       "      <td>basic.4y</td>\n",
       "      <td>no</td>\n",
       "      <td>no</td>\n",
       "      <td>no</td>\n",
       "      <td>telephone</td>\n",
       "      <td>may</td>\n",
       "      <td>mon</td>\n",
       "      <td>...</td>\n",
       "      <td>1</td>\n",
       "      <td>999</td>\n",
       "      <td>0</td>\n",
       "      <td>nonexistent</td>\n",
       "      <td>1.1</td>\n",
       "      <td>93.994</td>\n",
       "      <td>-36.4</td>\n",
       "      <td>4.857</td>\n",
       "      <td>5191.0</td>\n",
       "      <td>no</td>\n",
       "    </tr>\n",
       "    <tr>\n",
       "      <th>1</th>\n",
       "      <td>57</td>\n",
       "      <td>services</td>\n",
       "      <td>married</td>\n",
       "      <td>high.school</td>\n",
       "      <td>unknown</td>\n",
       "      <td>no</td>\n",
       "      <td>no</td>\n",
       "      <td>telephone</td>\n",
       "      <td>may</td>\n",
       "      <td>mon</td>\n",
       "      <td>...</td>\n",
       "      <td>1</td>\n",
       "      <td>999</td>\n",
       "      <td>0</td>\n",
       "      <td>nonexistent</td>\n",
       "      <td>1.1</td>\n",
       "      <td>93.994</td>\n",
       "      <td>-36.4</td>\n",
       "      <td>4.857</td>\n",
       "      <td>5191.0</td>\n",
       "      <td>no</td>\n",
       "    </tr>\n",
       "    <tr>\n",
       "      <th>2</th>\n",
       "      <td>37</td>\n",
       "      <td>services</td>\n",
       "      <td>married</td>\n",
       "      <td>high.school</td>\n",
       "      <td>no</td>\n",
       "      <td>yes</td>\n",
       "      <td>no</td>\n",
       "      <td>telephone</td>\n",
       "      <td>may</td>\n",
       "      <td>mon</td>\n",
       "      <td>...</td>\n",
       "      <td>1</td>\n",
       "      <td>999</td>\n",
       "      <td>0</td>\n",
       "      <td>nonexistent</td>\n",
       "      <td>1.1</td>\n",
       "      <td>93.994</td>\n",
       "      <td>-36.4</td>\n",
       "      <td>4.857</td>\n",
       "      <td>5191.0</td>\n",
       "      <td>no</td>\n",
       "    </tr>\n",
       "    <tr>\n",
       "      <th>3</th>\n",
       "      <td>40</td>\n",
       "      <td>admin.</td>\n",
       "      <td>married</td>\n",
       "      <td>basic.6y</td>\n",
       "      <td>no</td>\n",
       "      <td>no</td>\n",
       "      <td>no</td>\n",
       "      <td>telephone</td>\n",
       "      <td>may</td>\n",
       "      <td>mon</td>\n",
       "      <td>...</td>\n",
       "      <td>1</td>\n",
       "      <td>999</td>\n",
       "      <td>0</td>\n",
       "      <td>nonexistent</td>\n",
       "      <td>1.1</td>\n",
       "      <td>93.994</td>\n",
       "      <td>-36.4</td>\n",
       "      <td>4.857</td>\n",
       "      <td>5191.0</td>\n",
       "      <td>no</td>\n",
       "    </tr>\n",
       "    <tr>\n",
       "      <th>4</th>\n",
       "      <td>56</td>\n",
       "      <td>services</td>\n",
       "      <td>married</td>\n",
       "      <td>high.school</td>\n",
       "      <td>no</td>\n",
       "      <td>no</td>\n",
       "      <td>yes</td>\n",
       "      <td>telephone</td>\n",
       "      <td>may</td>\n",
       "      <td>mon</td>\n",
       "      <td>...</td>\n",
       "      <td>1</td>\n",
       "      <td>999</td>\n",
       "      <td>0</td>\n",
       "      <td>nonexistent</td>\n",
       "      <td>1.1</td>\n",
       "      <td>93.994</td>\n",
       "      <td>-36.4</td>\n",
       "      <td>4.857</td>\n",
       "      <td>5191.0</td>\n",
       "      <td>no</td>\n",
       "    </tr>\n",
       "  </tbody>\n",
       "</table>\n",
       "<p>5 rows × 21 columns</p>\n",
       "</div>"
      ],
      "text/plain": [
       "   age        job  marital    education  default housing loan    contact  \\\n",
       "0   56  housemaid  married     basic.4y       no      no   no  telephone   \n",
       "1   57   services  married  high.school  unknown      no   no  telephone   \n",
       "2   37   services  married  high.school       no     yes   no  telephone   \n",
       "3   40     admin.  married     basic.6y       no      no   no  telephone   \n",
       "4   56   services  married  high.school       no      no  yes  telephone   \n",
       "\n",
       "  month day_of_week  ...  campaign  pdays  previous     poutcome emp.var.rate  \\\n",
       "0   may         mon  ...         1    999         0  nonexistent          1.1   \n",
       "1   may         mon  ...         1    999         0  nonexistent          1.1   \n",
       "2   may         mon  ...         1    999         0  nonexistent          1.1   \n",
       "3   may         mon  ...         1    999         0  nonexistent          1.1   \n",
       "4   may         mon  ...         1    999         0  nonexistent          1.1   \n",
       "\n",
       "   cons.price.idx  cons.conf.idx  euribor3m  nr.employed   y  \n",
       "0          93.994          -36.4      4.857       5191.0  no  \n",
       "1          93.994          -36.4      4.857       5191.0  no  \n",
       "2          93.994          -36.4      4.857       5191.0  no  \n",
       "3          93.994          -36.4      4.857       5191.0  no  \n",
       "4          93.994          -36.4      4.857       5191.0  no  \n",
       "\n",
       "[5 rows x 21 columns]"
      ]
     },
     "execution_count": 2,
     "metadata": {},
     "output_type": "execute_result"
    }
   ],
   "source": [
    "# Data Loading & Data Head\n",
    "data = pd.read_csv('bank-additional-full.csv', sep = ';')\n",
    "data.head()"
   ]
  },
  {
   "cell_type": "code",
   "execution_count": 3,
   "metadata": {},
   "outputs": [
    {
     "data": {
      "text/html": [
       "<div>\n",
       "<style scoped>\n",
       "    .dataframe tbody tr th:only-of-type {\n",
       "        vertical-align: middle;\n",
       "    }\n",
       "\n",
       "    .dataframe tbody tr th {\n",
       "        vertical-align: top;\n",
       "    }\n",
       "\n",
       "    .dataframe thead th {\n",
       "        text-align: right;\n",
       "    }\n",
       "</style>\n",
       "<table border=\"1\" class=\"dataframe\">\n",
       "  <thead>\n",
       "    <tr style=\"text-align: right;\">\n",
       "      <th></th>\n",
       "      <th>age</th>\n",
       "      <th>job</th>\n",
       "      <th>marital</th>\n",
       "      <th>education</th>\n",
       "      <th>default</th>\n",
       "      <th>housing</th>\n",
       "      <th>loan</th>\n",
       "      <th>contact</th>\n",
       "      <th>month</th>\n",
       "      <th>day_of_week</th>\n",
       "      <th>...</th>\n",
       "      <th>campaign</th>\n",
       "      <th>pdays</th>\n",
       "      <th>previous</th>\n",
       "      <th>poutcome</th>\n",
       "      <th>emp.var.rate</th>\n",
       "      <th>cons.price.idx</th>\n",
       "      <th>cons.conf.idx</th>\n",
       "      <th>euribor3m</th>\n",
       "      <th>nr.employed</th>\n",
       "      <th>y</th>\n",
       "    </tr>\n",
       "  </thead>\n",
       "  <tbody>\n",
       "    <tr>\n",
       "      <th>41183</th>\n",
       "      <td>73</td>\n",
       "      <td>retired</td>\n",
       "      <td>married</td>\n",
       "      <td>professional.course</td>\n",
       "      <td>no</td>\n",
       "      <td>yes</td>\n",
       "      <td>no</td>\n",
       "      <td>cellular</td>\n",
       "      <td>nov</td>\n",
       "      <td>fri</td>\n",
       "      <td>...</td>\n",
       "      <td>1</td>\n",
       "      <td>999</td>\n",
       "      <td>0</td>\n",
       "      <td>nonexistent</td>\n",
       "      <td>-1.1</td>\n",
       "      <td>94.767</td>\n",
       "      <td>-50.8</td>\n",
       "      <td>1.028</td>\n",
       "      <td>4963.6</td>\n",
       "      <td>yes</td>\n",
       "    </tr>\n",
       "    <tr>\n",
       "      <th>41184</th>\n",
       "      <td>46</td>\n",
       "      <td>blue-collar</td>\n",
       "      <td>married</td>\n",
       "      <td>professional.course</td>\n",
       "      <td>no</td>\n",
       "      <td>no</td>\n",
       "      <td>no</td>\n",
       "      <td>cellular</td>\n",
       "      <td>nov</td>\n",
       "      <td>fri</td>\n",
       "      <td>...</td>\n",
       "      <td>1</td>\n",
       "      <td>999</td>\n",
       "      <td>0</td>\n",
       "      <td>nonexistent</td>\n",
       "      <td>-1.1</td>\n",
       "      <td>94.767</td>\n",
       "      <td>-50.8</td>\n",
       "      <td>1.028</td>\n",
       "      <td>4963.6</td>\n",
       "      <td>no</td>\n",
       "    </tr>\n",
       "    <tr>\n",
       "      <th>41185</th>\n",
       "      <td>56</td>\n",
       "      <td>retired</td>\n",
       "      <td>married</td>\n",
       "      <td>university.degree</td>\n",
       "      <td>no</td>\n",
       "      <td>yes</td>\n",
       "      <td>no</td>\n",
       "      <td>cellular</td>\n",
       "      <td>nov</td>\n",
       "      <td>fri</td>\n",
       "      <td>...</td>\n",
       "      <td>2</td>\n",
       "      <td>999</td>\n",
       "      <td>0</td>\n",
       "      <td>nonexistent</td>\n",
       "      <td>-1.1</td>\n",
       "      <td>94.767</td>\n",
       "      <td>-50.8</td>\n",
       "      <td>1.028</td>\n",
       "      <td>4963.6</td>\n",
       "      <td>no</td>\n",
       "    </tr>\n",
       "    <tr>\n",
       "      <th>41186</th>\n",
       "      <td>44</td>\n",
       "      <td>technician</td>\n",
       "      <td>married</td>\n",
       "      <td>professional.course</td>\n",
       "      <td>no</td>\n",
       "      <td>no</td>\n",
       "      <td>no</td>\n",
       "      <td>cellular</td>\n",
       "      <td>nov</td>\n",
       "      <td>fri</td>\n",
       "      <td>...</td>\n",
       "      <td>1</td>\n",
       "      <td>999</td>\n",
       "      <td>0</td>\n",
       "      <td>nonexistent</td>\n",
       "      <td>-1.1</td>\n",
       "      <td>94.767</td>\n",
       "      <td>-50.8</td>\n",
       "      <td>1.028</td>\n",
       "      <td>4963.6</td>\n",
       "      <td>yes</td>\n",
       "    </tr>\n",
       "    <tr>\n",
       "      <th>41187</th>\n",
       "      <td>74</td>\n",
       "      <td>retired</td>\n",
       "      <td>married</td>\n",
       "      <td>professional.course</td>\n",
       "      <td>no</td>\n",
       "      <td>yes</td>\n",
       "      <td>no</td>\n",
       "      <td>cellular</td>\n",
       "      <td>nov</td>\n",
       "      <td>fri</td>\n",
       "      <td>...</td>\n",
       "      <td>3</td>\n",
       "      <td>999</td>\n",
       "      <td>1</td>\n",
       "      <td>failure</td>\n",
       "      <td>-1.1</td>\n",
       "      <td>94.767</td>\n",
       "      <td>-50.8</td>\n",
       "      <td>1.028</td>\n",
       "      <td>4963.6</td>\n",
       "      <td>no</td>\n",
       "    </tr>\n",
       "  </tbody>\n",
       "</table>\n",
       "<p>5 rows × 21 columns</p>\n",
       "</div>"
      ],
      "text/plain": [
       "       age          job  marital            education default housing loan  \\\n",
       "41183   73      retired  married  professional.course      no     yes   no   \n",
       "41184   46  blue-collar  married  professional.course      no      no   no   \n",
       "41185   56      retired  married    university.degree      no     yes   no   \n",
       "41186   44   technician  married  professional.course      no      no   no   \n",
       "41187   74      retired  married  professional.course      no     yes   no   \n",
       "\n",
       "        contact month day_of_week  ...  campaign  pdays  previous  \\\n",
       "41183  cellular   nov         fri  ...         1    999         0   \n",
       "41184  cellular   nov         fri  ...         1    999         0   \n",
       "41185  cellular   nov         fri  ...         2    999         0   \n",
       "41186  cellular   nov         fri  ...         1    999         0   \n",
       "41187  cellular   nov         fri  ...         3    999         1   \n",
       "\n",
       "          poutcome emp.var.rate  cons.price.idx  cons.conf.idx  euribor3m  \\\n",
       "41183  nonexistent         -1.1          94.767          -50.8      1.028   \n",
       "41184  nonexistent         -1.1          94.767          -50.8      1.028   \n",
       "41185  nonexistent         -1.1          94.767          -50.8      1.028   \n",
       "41186  nonexistent         -1.1          94.767          -50.8      1.028   \n",
       "41187      failure         -1.1          94.767          -50.8      1.028   \n",
       "\n",
       "       nr.employed    y  \n",
       "41183       4963.6  yes  \n",
       "41184       4963.6   no  \n",
       "41185       4963.6   no  \n",
       "41186       4963.6  yes  \n",
       "41187       4963.6   no  \n",
       "\n",
       "[5 rows x 21 columns]"
      ]
     },
     "execution_count": 3,
     "metadata": {},
     "output_type": "execute_result"
    }
   ],
   "source": [
    "# Data Tail\n",
    "\n",
    "data.tail()"
   ]
  },
  {
   "cell_type": "code",
   "execution_count": 4,
   "metadata": {},
   "outputs": [],
   "source": [
    "# Copy data original\n",
    "\n",
    "data_copy = data.copy()"
   ]
  },
  {
   "cell_type": "code",
   "execution_count": 5,
   "metadata": {},
   "outputs": [],
   "source": [
    "# Rename Columns\n",
    "\n",
    "data.rename(columns={'y': 'subscribe'}, inplace=True)"
   ]
  },
  {
   "cell_type": "markdown",
   "metadata": {},
   "source": [
    "# 4. Exploratory Data Analysis"
   ]
  },
  {
   "cell_type": "markdown",
   "metadata": {},
   "source": [
    "### Cek Data Shape (Num of Rows and Columns) & Data Type"
   ]
  },
  {
   "cell_type": "code",
   "execution_count": 6,
   "metadata": {},
   "outputs": [
    {
     "name": "stdout",
     "output_type": "stream",
     "text": [
      "Data Shape :  (41188, 21)\n"
     ]
    }
   ],
   "source": [
    "# Shape Data\n",
    "print(\"Data Shape : \", data.shape)"
   ]
  },
  {
   "cell_type": "code",
   "execution_count": 7,
   "metadata": {},
   "outputs": [
    {
     "name": "stdout",
     "output_type": "stream",
     "text": [
      "<class 'pandas.core.frame.DataFrame'>\n",
      "RangeIndex: 41188 entries, 0 to 41187\n",
      "Data columns (total 21 columns):\n",
      " #   Column          Non-Null Count  Dtype  \n",
      "---  ------          --------------  -----  \n",
      " 0   age             41188 non-null  int64  \n",
      " 1   job             41188 non-null  object \n",
      " 2   marital         41188 non-null  object \n",
      " 3   education       41188 non-null  object \n",
      " 4   default         41188 non-null  object \n",
      " 5   housing         41188 non-null  object \n",
      " 6   loan            41188 non-null  object \n",
      " 7   contact         41188 non-null  object \n",
      " 8   month           41188 non-null  object \n",
      " 9   day_of_week     41188 non-null  object \n",
      " 10  duration        41188 non-null  int64  \n",
      " 11  campaign        41188 non-null  int64  \n",
      " 12  pdays           41188 non-null  int64  \n",
      " 13  previous        41188 non-null  int64  \n",
      " 14  poutcome        41188 non-null  object \n",
      " 15  emp.var.rate    41188 non-null  float64\n",
      " 16  cons.price.idx  41188 non-null  float64\n",
      " 17  cons.conf.idx   41188 non-null  float64\n",
      " 18  euribor3m       41188 non-null  float64\n",
      " 19  nr.employed     41188 non-null  float64\n",
      " 20  subscribe       41188 non-null  object \n",
      "dtypes: float64(5), int64(5), object(11)\n",
      "memory usage: 6.6+ MB\n"
     ]
    }
   ],
   "source": [
    "# Check Dataset columns type, missing values\n",
    "data.info()"
   ]
  },
  {
   "cell_type": "markdown",
   "metadata": {},
   "source": [
    "Dataset ini memiliki 41188 kolom dan 21 baris dengan varian tipe data float, integer dan object. Tidak terdapat missing values di setiap kolomnya. Selanjutnya akan di cek apakah ada kolom yang memiliki unvalid values(berdasarkan objective dari dataset yang telah dijelaskan sebelumnya di section *perkenalan*, terdapat value `unknown` di beberapa kolom), jika ada berapa persen? jika rasionya 30% atau kurang maka kita akan menghapus data tersebut."
   ]
  },
  {
   "cell_type": "markdown",
   "metadata": {},
   "source": [
    "### Cek Class Imbalance di Target Variable"
   ]
  },
  {
   "cell_type": "code",
   "execution_count": 8,
   "metadata": {},
   "outputs": [
    {
     "data": {
      "image/png": "[encoded data removed]",
      "text/plain": [
       "<Figure size 864x576 with 1 Axes>"
      ]
     },
     "metadata": {},
     "output_type": "display_data"
    }
   ],
   "source": [
    "from matplotlib import cm\n",
    "from matplotlib.colors import ListedColormap, LinearSegmentedColormap\n",
    "# Color Setting\n",
    "colors = ['coral', 'yellow']\n",
    "tcolor_dict = {\n",
    "    True : \"coral\",\n",
    "    False : \"y\"\n",
    "}\n",
    "mycmp = LinearSegmentedColormap.from_list(\"MyCmp\", ['#8EBAD9', '#FFFFFF', '#FFF56D'], N=100)\n",
    "# Plot a pie chart to check if we have class imbalance problem\n",
    "fig, ax = plt.subplots(figsize=(12,8))\n",
    "ax.pie(x = data[\"subscribe\"].value_counts(), autopct=\"%1.1f%%\",\n",
    "        pctdistance=.75, startangle=24, textprops={\"fontsize\":13},\n",
    "        colors=colors, wedgeprops={'edgecolor':'#383838'});\n",
    "ax.set_title(\"Target Class Distribution\", fontdict={'fontsize':14})\n",
    "ax.legend(['No', 'Yes'], bbox_to_anchor=(.8, .77))\n",
    "\n",
    "centre_circle = plt.Circle((0,0),0.55,fc='white', ec='#383838')\n",
    "fig = plt.gcf()\n",
    "fig.gca().add_artist(centre_circle)\n",
    "\n",
    "plt.show()"
   ]
  },
  {
   "cell_type": "code",
   "execution_count": 9,
   "metadata": {},
   "outputs": [
    {
     "data": {
      "text/plain": [
       "subscribe\n",
       "no     36548\n",
       "yes     4640\n",
       "Name: subscribe, dtype: int64"
      ]
     },
     "execution_count": 9,
     "metadata": {},
     "output_type": "execute_result"
    }
   ],
   "source": [
    "data['subscribe'].groupby(data['subscribe']).count()"
   ]
  },
  {
   "cell_type": "markdown",
   "metadata": {},
   "source": [
    "Terdapat imbalance data di variabel target, yaitu klien tidak subscribe atau tidak deposit memiliki persentasi 88.7 persen dibandingkan klien yang akhirnya deposit sebanyak 11.3 persen. [/sourcecode-piechart](https://www.kaggle.com/code/junedism/spaceship-titanic-exploratory-data-analysis)"
   ]
  },
  {
   "cell_type": "markdown",
   "metadata": {},
   "source": [
    "### Checking Unvalid Value in Categorical Variable"
   ]
  },
  {
   "cell_type": "code",
   "execution_count": 10,
   "metadata": {},
   "outputs": [
    {
     "name": "stdout",
     "output_type": "stream",
     "text": [
      "Unique values of job : ['housemaid' 'services' 'admin.' 'blue-collar' 'technician' 'retired'\n",
      " 'management' 'unemployed' 'self-employed' 'unknown' 'entrepreneur'\n",
      " 'student']\n",
      "---------------------------------------------------------------------------------------------------------\n",
      "Unique values of marital : ['married' 'single' 'divorced' 'unknown']\n",
      "---------------------------------------------------------------------------------------------------------\n",
      "Unique values of education : ['basic.4y' 'high.school' 'basic.6y' 'basic.9y' 'professional.course'\n",
      " 'unknown' 'university.degree' 'illiterate']\n",
      "---------------------------------------------------------------------------------------------------------\n",
      "Unique values of default : ['no' 'unknown' 'yes']\n",
      "---------------------------------------------------------------------------------------------------------\n",
      "Unique values of housing : ['no' 'yes' 'unknown']\n",
      "---------------------------------------------------------------------------------------------------------\n",
      "Unique values of loan : ['no' 'yes' 'unknown']\n",
      "---------------------------------------------------------------------------------------------------------\n",
      "Unique values of contact : ['telephone' 'cellular']\n",
      "---------------------------------------------------------------------------------------------------------\n",
      "Unique values of month : ['may' 'jun' 'jul' 'aug' 'oct' 'nov' 'dec' 'mar' 'apr' 'sep']\n",
      "---------------------------------------------------------------------------------------------------------\n",
      "Unique values of day_of_week : ['mon' 'tue' 'wed' 'thu' 'fri']\n",
      "---------------------------------------------------------------------------------------------------------\n",
      "Unique values of poutcome : ['nonexistent' 'failure' 'success']\n",
      "---------------------------------------------------------------------------------------------------------\n",
      "Unique values of subscribe : ['no' 'yes']\n",
      "---------------------------------------------------------------------------------------------------------\n"
     ]
    }
   ],
   "source": [
    "# Values tiap kategorikal variabel\n",
    "for i in data.select_dtypes(include = 'object').columns :\n",
    "    print(f\"Unique values of {i} : {data[i].unique()}\")\n",
    "    print('---'*35)"
   ]
  },
  {
   "cell_type": "markdown",
   "metadata": {},
   "source": [
    "Terdapat unvalid value `unknown` di beberapa kategorikal variabel. selanjutnya akan di cek berapa persen rasionya."
   ]
  },
  {
   "cell_type": "code",
   "execution_count": 11,
   "metadata": {},
   "outputs": [
    {
     "name": "stdout",
     "output_type": "stream",
     "text": [
      "Rasio jumlah baris dengan value 'unknown' terhadap banyak baris data keseluruhan : 26 persen\n"
     ]
    }
   ],
   "source": [
    "# Cek rasio unvalid values 'unknown'\n",
    "# step -> ganti unknown ke nan values -> dropna -> hitung jumlah baris setalah dropna -> hitung perbandingan jumlah baris sebelum dan setelah dropna\n",
    "\n",
    "a = ((data.shape[0] - data.replace('unknown', np.nan).dropna().shape[0])/data.shape[0])*100\n",
    "print(f\"Rasio jumlah baris dengan value 'unknown' terhadap banyak baris data keseluruhan : {round(a)} persen\")"
   ]
  },
  {
   "cell_type": "markdown",
   "metadata": {},
   "source": [
    "Karena rasionya sebanyak 26% maka data tersebut akan dihapus (di `data preprocessing section`)."
   ]
  },
  {
   "cell_type": "markdown",
   "metadata": {},
   "source": [
    "### Explore the Categorical Features"
   ]
  },
  {
   "cell_type": "code",
   "execution_count": 12,
   "metadata": {},
   "outputs": [
    {
     "name": "stdout",
     "output_type": "stream",
     "text": [
      "Fitur job ini memiliki values kategori sebanyak 12\n",
      "Fitur marital ini memiliki values kategori sebanyak 4\n",
      "Fitur education ini memiliki values kategori sebanyak 8\n",
      "Fitur default ini memiliki values kategori sebanyak 3\n",
      "Fitur housing ini memiliki values kategori sebanyak 3\n",
      "Fitur loan ini memiliki values kategori sebanyak 3\n",
      "Fitur contact ini memiliki values kategori sebanyak 2\n",
      "Fitur month ini memiliki values kategori sebanyak 10\n",
      "Fitur day_of_week ini memiliki values kategori sebanyak 5\n",
      "Fitur poutcome ini memiliki values kategori sebanyak 3\n"
     ]
    }
   ],
   "source": [
    "# Inisialisasi fitur kategorik\n",
    "categorical_features = [feature for feature in data.columns if ((data[feature].dtypes=='O') & (feature not in ['subscribe']))]\n",
    "\n",
    "# length each feature\n",
    "for feature in categorical_features:\n",
    "    print('Fitur {} ini memiliki values kategori sebanyak {}'.format(feature,len(data[feature].unique())))"
   ]
  },
  {
   "cell_type": "markdown",
   "metadata": {},
   "source": [
    "- Terdapat 10 fitur kategorik\n",
    "- Fitur `job` adalah fitur kategorik dengan varian value terbanyak kemudian `month` dan `education`."
   ]
  },
  {
   "cell_type": "markdown",
   "metadata": {},
   "source": [
    "### Categorical Features Distribution"
   ]
  },
  {
   "cell_type": "code",
   "execution_count": 13,
   "metadata": {},
   "outputs": [
    {
     "data": {
      "image/png": "[encoded data removed]",
      "text/plain": [
       "<Figure size 2160x5760 with 10 Axes>"
      ]
     },
     "metadata": {},
     "output_type": "display_data"
    }
   ],
   "source": [
    "#check count based on categorical features\n",
    "plt.figure(figsize = (30,80), facecolor = 'white')\n",
    "iter = 1\n",
    "for categorical_feature in categorical_features:\n",
    "    ax = plt.subplot(12, 3, iter)\n",
    "    sns.countplot(y = categorical_feature, data = data)\n",
    "    plt.xlabel(\"Counts\")\n",
    "    plt.ylabel(f\"{categorical_feature} type\")\n",
    "    plt.title(categorical_feature)\n",
    "    iter += 1\n",
    "plt.show()"
   ]
  },
  {
   "cell_type": "markdown",
   "metadata": {},
   "source": [
    "- Klien dengan pekerjaan di bagian `admin` adalah yang terbanyak sedangkan `housemaid` memiliki data paling sedikit\n",
    "- Sebagian besar klien bank status pernikahannya `married`\n",
    "- Level edukasi tertinggi adalah `University Degree` dan terendah `illiterate` atau buta huruf.\n",
    "- Metode marketing sebagian besar dilakukan by `cellular` dibandingkan by `telephone`\n",
    "- Karena sebagian besar klien tidak default (jumlah 32588) sedangkan klien default (jumlah 3) sangat sedikit, maka bisa diasumsikan fitur `default` ini akan memiliki nilai `feature importances` mendekati 0 atau tidak akan memberikan dampak yang signifikan dalam analisis lanjutan untuk case ini.\n",
    "- Data bulan may adalah yang paling banyak data desember yang paling sedikit.\n",
    "- Untuk data mingguan, senin dan kamis memiliki data paling banyak sedangkan jumat yang paling sedikit."
   ]
  },
  {
   "cell_type": "markdown",
   "metadata": {},
   "source": [
    "### Explore the Numerical Features"
   ]
  },
  {
   "cell_type": "code",
   "execution_count": 14,
   "metadata": {},
   "outputs": [
    {
     "name": "stdout",
     "output_type": "stream",
     "text": [
      "Number of numerical variables:  10\n"
     ]
    },
    {
     "data": {
      "text/html": [
       "<div>\n",
       "<style scoped>\n",
       "    .dataframe tbody tr th:only-of-type {\n",
       "        vertical-align: middle;\n",
       "    }\n",
       "\n",
       "    .dataframe tbody tr th {\n",
       "        vertical-align: top;\n",
       "    }\n",
       "\n",
       "    .dataframe thead th {\n",
       "        text-align: right;\n",
       "    }\n",
       "</style>\n",
       "<table border=\"1\" class=\"dataframe\">\n",
       "  <thead>\n",
       "    <tr style=\"text-align: right;\">\n",
       "      <th></th>\n",
       "      <th>age</th>\n",
       "      <th>duration</th>\n",
       "      <th>campaign</th>\n",
       "      <th>pdays</th>\n",
       "      <th>previous</th>\n",
       "      <th>emp.var.rate</th>\n",
       "      <th>cons.price.idx</th>\n",
       "      <th>cons.conf.idx</th>\n",
       "      <th>euribor3m</th>\n",
       "      <th>nr.employed</th>\n",
       "    </tr>\n",
       "  </thead>\n",
       "  <tbody>\n",
       "    <tr>\n",
       "      <th>0</th>\n",
       "      <td>56</td>\n",
       "      <td>261</td>\n",
       "      <td>1</td>\n",
       "      <td>999</td>\n",
       "      <td>0</td>\n",
       "      <td>1.1</td>\n",
       "      <td>93.994</td>\n",
       "      <td>-36.4</td>\n",
       "      <td>4.857</td>\n",
       "      <td>5191.0</td>\n",
       "    </tr>\n",
       "    <tr>\n",
       "      <th>1</th>\n",
       "      <td>57</td>\n",
       "      <td>149</td>\n",
       "      <td>1</td>\n",
       "      <td>999</td>\n",
       "      <td>0</td>\n",
       "      <td>1.1</td>\n",
       "      <td>93.994</td>\n",
       "      <td>-36.4</td>\n",
       "      <td>4.857</td>\n",
       "      <td>5191.0</td>\n",
       "    </tr>\n",
       "    <tr>\n",
       "      <th>2</th>\n",
       "      <td>37</td>\n",
       "      <td>226</td>\n",
       "      <td>1</td>\n",
       "      <td>999</td>\n",
       "      <td>0</td>\n",
       "      <td>1.1</td>\n",
       "      <td>93.994</td>\n",
       "      <td>-36.4</td>\n",
       "      <td>4.857</td>\n",
       "      <td>5191.0</td>\n",
       "    </tr>\n",
       "    <tr>\n",
       "      <th>3</th>\n",
       "      <td>40</td>\n",
       "      <td>151</td>\n",
       "      <td>1</td>\n",
       "      <td>999</td>\n",
       "      <td>0</td>\n",
       "      <td>1.1</td>\n",
       "      <td>93.994</td>\n",
       "      <td>-36.4</td>\n",
       "      <td>4.857</td>\n",
       "      <td>5191.0</td>\n",
       "    </tr>\n",
       "    <tr>\n",
       "      <th>4</th>\n",
       "      <td>56</td>\n",
       "      <td>307</td>\n",
       "      <td>1</td>\n",
       "      <td>999</td>\n",
       "      <td>0</td>\n",
       "      <td>1.1</td>\n",
       "      <td>93.994</td>\n",
       "      <td>-36.4</td>\n",
       "      <td>4.857</td>\n",
       "      <td>5191.0</td>\n",
       "    </tr>\n",
       "  </tbody>\n",
       "</table>\n",
       "</div>"
      ],
      "text/plain": [
       "   age  duration  campaign  pdays  previous  emp.var.rate  cons.price.idx  \\\n",
       "0   56       261         1    999         0           1.1          93.994   \n",
       "1   57       149         1    999         0           1.1          93.994   \n",
       "2   37       226         1    999         0           1.1          93.994   \n",
       "3   40       151         1    999         0           1.1          93.994   \n",
       "4   56       307         1    999         0           1.1          93.994   \n",
       "\n",
       "   cons.conf.idx  euribor3m  nr.employed  \n",
       "0          -36.4      4.857       5191.0  \n",
       "1          -36.4      4.857       5191.0  \n",
       "2          -36.4      4.857       5191.0  \n",
       "3          -36.4      4.857       5191.0  \n",
       "4          -36.4      4.857       5191.0  "
      ]
     },
     "execution_count": 14,
     "metadata": {},
     "output_type": "execute_result"
    }
   ],
   "source": [
    "# list of numerical variables\n",
    "numerical_features = data.select_dtypes(exclude='object').columns\n",
    "print('Number of numerical variables: ', len(numerical_features))\n",
    "\n",
    "# visualise the numerical variables\n",
    "data[numerical_features].head()"
   ]
  },
  {
   "cell_type": "markdown",
   "metadata": {},
   "source": [
    "Dalam dataset yang digunakan terdapat 10 numerik fitur."
   ]
  },
  {
   "cell_type": "markdown",
   "metadata": {},
   "source": [
    "### Numerical Features Distribution and Anomaly"
   ]
  },
  {
   "cell_type": "code",
   "execution_count": 15,
   "metadata": {},
   "outputs": [
    {
     "data": {
      "image/png": "[encoded data removed]",
      "text/plain": [
       "<Figure size 1296x1152 with 10 Axes>"
      ]
     },
     "metadata": {
      "needs_background": "light"
     },
     "output_type": "display_data"
    }
   ],
   "source": [
    "# Visualizing data distribution with distplot \n",
    "x = plt.figure(figsize=(18, 16))\n",
    "\n",
    "for i, j in enumerate(numerical_features):\n",
    "    x.add_subplot(5, 2, i+1)\n",
    "    sns.distplot(data[j], bins=15)\n",
    "    x.tight_layout()\n",
    "\n",
    "plt.tight_layout()"
   ]
  },
  {
   "cell_type": "code",
   "execution_count": 16,
   "metadata": {},
   "outputs": [
    {
     "data": {
      "image/png": "[encoded data removed]",
      "text/plain": [
       "<Figure size 1296x1152 with 10 Axes>"
      ]
     },
     "metadata": {
      "needs_background": "light"
     },
     "output_type": "display_data"
    }
   ],
   "source": [
    "# Visualizing data distribution with boxplot // checking outliers\n",
    "x = plt.figure(figsize=(18, 16))\n",
    "for i, j in enumerate(numerical_features):\n",
    "    x.add_subplot(5, 2, i+1)\n",
    "    sns.boxplot(data[j])\n",
    "    x.tight_layout()\n",
    "plt.tight_layout()"
   ]
  },
  {
   "cell_type": "markdown",
   "metadata": {},
   "source": [
    "- Variabel `duration`, `campaign`, dan `previous` sepertinya memiliki persebaran data yang sama. Selanjutnya `emp.var.rate` dan `euribor3m` juga memiliki kemiripan, seperti halnya variabel`cons.price.idx` dan `cons.conf.idx`.\n",
    "- Terdapat outliers di `age`, `duration`, `campaign`, `pdays`, `previous`, dan `cons.conf.idx`."
   ]
  },
  {
   "cell_type": "markdown",
   "metadata": {},
   "source": [
    "###  Relation between Numerical Features and Target Feature"
   ]
  },
  {
   "cell_type": "code",
   "execution_count": 17,
   "metadata": {},
   "outputs": [
    {
     "data": {
      "image/png": "[encoded data removed]",
      "text/plain": [
       "<Figure size 1440x4320 with 10 Axes>"
      ]
     },
     "metadata": {},
     "output_type": "display_data"
    }
   ],
   "source": [
    "#boxplot to show target distribution with respect numerical features\n",
    "plt.figure(figsize = (20,60), facecolor = 'white')\n",
    "plotnumber = 1\n",
    "for feature in numerical_features:\n",
    "    ax = plt.subplot(12, 3, plotnumber)\n",
    "    sns.boxplot(x = \"subscribe\", y = data[feature], data = data)\n",
    "    plt.xlabel(feature)\n",
    "    plotnumber += 1\n",
    "plt.show()"
   ]
  },
  {
   "cell_type": "markdown",
   "metadata": {},
   "source": [
    "- Lebih banyak klien yang deposit dengan durasi kontak lebih lama.\n",
    "- Campaign atau seberapa banyak pihak bank menghubungi klien itu berbanding terbalik dengan visi marketing yaitu menarik nasabah atau klien untuk deposit. Banyak campaign yang kurang berhasil jika dilihat dari banyaknya klien yang tidak deposit daripada klien deposit."
   ]
  },
  {
   "cell_type": "markdown",
   "metadata": {},
   "source": [
    "### Correlation between Numerical Features"
   ]
  },
  {
   "cell_type": "code",
   "execution_count": 18,
   "metadata": {},
   "outputs": [
    {
     "data": {
      "image/png": "[encoded data removed]",
      "text/plain": [
       "<Figure size 864x720 with 2 Axes>"
      ]
     },
     "metadata": {
      "needs_background": "light"
     },
     "output_type": "display_data"
    }
   ],
   "source": [
    "# Checking for correlation by heatmap\n",
    "corr = data[numerical_features].corr() \n",
    "plt.figure(figsize=(12, 10))\n",
    "\n",
    "sns.heatmap(corr[(corr >= 0.5) | (corr <= -0.4)], \n",
    "            cmap='GnBu', vmax=1.0, vmin=-1.0, linewidths=0.1,\n",
    "            annot=True, annot_kws={\"size\": 8}, square=True);"
   ]
  },
  {
   "cell_type": "markdown",
   "metadata": {},
   "source": [
    "- `pdays` berkorelasi dengan `previous`\n",
    "- `previous` juga berkorelasi dengan `emp.var.rate`, `euribor3m`, dan `nr.employed`.\n",
    "- `emp.var.rate` sangat berkorelasi dengan `cons.price.idx`, `euribor3m`, dan `nr.employed`.\n",
    "- `cons.price.idx` cukup berkorelasi dengan `euribor3m`, dan `nr.employed`\n",
    "- `euribor3m` sangat berkorelasi dengan `nr.employed`\n"
   ]
  },
  {
   "cell_type": "markdown",
   "metadata": {},
   "source": [
    "# 5. Data Preprocessing"
   ]
  },
  {
   "cell_type": "markdown",
   "metadata": {},
   "source": [
    "## *Get Data for Model Inference*"
   ]
  },
  {
   "cell_type": "markdown",
   "metadata": {},
   "source": [
    "Sebelum melakukan feature engineering, kita telah memperoleh bahwa terdapat unvalid value `unknown` dengan tingkat persentasi hanya 25%, jadi kita akan melakukan dropping value `unknown` tersebut sebelum data dipisah untuk train test dan inference."
   ]
  },
  {
   "cell_type": "code",
   "execution_count": 19,
   "metadata": {},
   "outputs": [],
   "source": [
    "# dropping unvalid value\n",
    "\n",
    "data = data.replace(\"unknown\", np.nan) # replacing \"unknown\" with NaN\n",
    "data.dropna(inplace = True) # drop all nan values"
   ]
  },
  {
   "cell_type": "code",
   "execution_count": 20,
   "metadata": {},
   "outputs": [],
   "source": [
    "# Get Data for Model Inference\n",
    "\n",
    "data_inf = data.sample(10, random_state = 0)"
   ]
  },
  {
   "cell_type": "code",
   "execution_count": 21,
   "metadata": {},
   "outputs": [],
   "source": [
    "# Remove Inference-Set from Dataset\n",
    "\n",
    "data_train_test = data.drop(data_inf.index)"
   ]
  },
  {
   "cell_type": "code",
   "execution_count": 22,
   "metadata": {},
   "outputs": [],
   "source": [
    "# Reset Index\n",
    "\n",
    "data_train_test.reset_index(drop = True, inplace = True)\n",
    "data_inf.reset_index(drop = True, inplace = True)"
   ]
  },
  {
   "cell_type": "markdown",
   "metadata": {},
   "source": [
    "## *Splitting Dataset*"
   ]
  },
  {
   "cell_type": "code",
   "execution_count": 23,
   "metadata": {},
   "outputs": [],
   "source": [
    "# Split between `X` (Features) and `y` (Target)\n",
    "\n",
    "X = data_train_test.drop('subscribe', axis = 1)\n",
    "y = data_train_test['subscribe']"
   ]
  },
  {
   "cell_type": "code",
   "execution_count": 24,
   "metadata": {},
   "outputs": [
    {
     "name": "stdout",
     "output_type": "stream",
     "text": [
      "test Size :  (24382, 20)\n",
      "Test Size :  (6096, 20)\n"
     ]
    }
   ],
   "source": [
    "# Split between Train-Set and Test-Set\n",
    "X_train, X_test, y_train, y_test = train_test_split(X, y, test_size=0.2, random_state =  0)\n",
    "\n",
    "print('test Size : ', X_train.shape)\n",
    "print('Test Size : ', X_test.shape)"
   ]
  },
  {
   "cell_type": "markdown",
   "metadata": {},
   "source": [
    "## *Feature Selection*"
   ]
  },
  {
   "cell_type": "markdown",
   "metadata": {},
   "source": [
    "Summary berdasarkan eksplorasi data di EDA section untuk pertimbangan pemilihan fitur:\n",
    "\n",
    "- Karena sebagian besar klien tidak default (jumlah 32588) sedangkan klien default (jumlah 3) sangat sedikit, maka bisa diasumsikan fitur `default` ini tidak akan memberikan dampak yang signifikan dalam analisis lanjutan untuk case ini karena hampir seluruh data terkluster di class `no default`.\n",
    "\n",
    "- `pdays` berkorelasi dengan `previous`\n",
    "- `previous` juga berkorelasi dengan `emp.var.rate`, `euribor3m`, dan `nr.employed`.\n",
    "- `emp.var.rate` sangat berkorelasi dengan `cons.price.idx`, `euribor3m`, dan `nr.employed`.\n",
    "- `cons.price.idx` cukup berkorelasi dengan `euribor3m`, dan `nr.employed`\n",
    "- `euribor3m` sangat berkorelasi dengan `nr.employed`\n",
    "\n",
    "Berdasarkan summary di atas, kita akan drop variabels `default`(untuk fitur kategorik), `pdays`, `emp.var.rate`, `nr.employed`, `euribor3m`, dan `nr.employed`.\n",
    "Mungkin akan muncul pertanyaan mengapa lebih memilih `pdays` untuk di drop daripada `previous`? Karena, untuk variabel `pdays` distibusi untuk klien deposit dan tidak deposit hampir sama jumlahnya. Sedangkan untuk variabel `emp.var.rate`, `nr.employed`, `euribor3m`, dan `nr.employed`, keempat variabel tersebut sangat berhubungan dengan variabel `cons.price.idx`."
   ]
  },
  {
   "cell_type": "code",
   "execution_count": 25,
   "metadata": {},
   "outputs": [],
   "source": [
    "# Choosing columns for modeling\n",
    "\n",
    "X_train = X_train[['age', 'job', 'marital', 'education', 'housing', 'loan',\n",
    "       'contact', 'month', 'day_of_week', 'duration', 'campaign',\n",
    "       'previous', 'poutcome', 'cons.price.idx']]\n",
    "X_test = X_test[['age', 'job', 'marital', 'education', 'housing', 'loan',\n",
    "       'contact', 'month', 'day_of_week', 'duration', 'campaign',\n",
    "       'previous', 'poutcome', 'cons.price.idx']]"
   ]
  },
  {
   "cell_type": "markdown",
   "metadata": {},
   "source": [
    "## *Handling Missing Values*"
   ]
  },
  {
   "cell_type": "code",
   "execution_count": 26,
   "metadata": {},
   "outputs": [
    {
     "data": {
      "text/plain": [
       "age               0\n",
       "job               0\n",
       "marital           0\n",
       "education         0\n",
       "housing           0\n",
       "loan              0\n",
       "contact           0\n",
       "month             0\n",
       "day_of_week       0\n",
       "duration          0\n",
       "campaign          0\n",
       "previous          0\n",
       "poutcome          0\n",
       "cons.price.idx    0\n",
       "dtype: int64"
      ]
     },
     "execution_count": 26,
     "metadata": {},
     "output_type": "execute_result"
    }
   ],
   "source": [
    "# Check Missing Values on X_train\n",
    "\n",
    "X_train.isnull().sum()"
   ]
  },
  {
   "cell_type": "code",
   "execution_count": 27,
   "metadata": {},
   "outputs": [
    {
     "data": {
      "text/plain": [
       "age               0\n",
       "job               0\n",
       "marital           0\n",
       "education         0\n",
       "housing           0\n",
       "loan              0\n",
       "contact           0\n",
       "month             0\n",
       "day_of_week       0\n",
       "duration          0\n",
       "campaign          0\n",
       "previous          0\n",
       "poutcome          0\n",
       "cons.price.idx    0\n",
       "dtype: int64"
      ]
     },
     "execution_count": 27,
     "metadata": {},
     "output_type": "execute_result"
    }
   ],
   "source": [
    "# Check Missing Values on X_test\n",
    "\n",
    "X_test.isnull().sum()"
   ]
  },
  {
   "cell_type": "code",
   "execution_count": 28,
   "metadata": {},
   "outputs": [
    {
     "data": {
      "text/plain": [
       "0"
      ]
     },
     "execution_count": 28,
     "metadata": {},
     "output_type": "execute_result"
    }
   ],
   "source": [
    "# Check Missing Values on y_train\n",
    "\n",
    "y_train.isnull().sum()"
   ]
  },
  {
   "cell_type": "code",
   "execution_count": 29,
   "metadata": {},
   "outputs": [
    {
     "data": {
      "text/plain": [
       "0"
      ]
     },
     "execution_count": 29,
     "metadata": {},
     "output_type": "execute_result"
    }
   ],
   "source": [
    "# Check Missing Values on y_test\n",
    "\n",
    "y_test.isnull().sum()"
   ]
  },
  {
   "cell_type": "markdown",
   "metadata": {},
   "source": [
    "## *Handling Outlier*"
   ]
  },
  {
   "cell_type": "code",
   "execution_count": 30,
   "metadata": {},
   "outputs": [
    {
     "data": {
      "image/png": "[encoded data removed]",
      "text/plain": [
       "<Figure size 1296x1152 with 5 Axes>"
      ]
     },
     "metadata": {
      "needs_background": "light"
     },
     "output_type": "display_data"
    }
   ],
   "source": [
    "# Boxploting every feature on X_train to see outlier (Before Handling)\n",
    "\n",
    "x = plt.figure(figsize=(18, 16))\n",
    "for i, j in enumerate(X_train.select_dtypes(exclude='object').columns):\n",
    "    x.add_subplot(5, 2, i+1)\n",
    "    sns.boxplot(X_train[j])\n",
    "    x.tight_layout()\n",
    "plt.tight_layout()"
   ]
  },
  {
   "cell_type": "markdown",
   "metadata": {},
   "source": [
    "variabel `age`, `duration`, dan `previous` tidak akan dilakukan handling outliers karena value `age` adalah value natural, untuk `duration` semakin lama durasi marketing semakin tertarik nasabah atau klien untuk deposit, `previous` phone calls marketing sebelum last campaign juga sangat berpengaruh dalam kesuksesan campaign."
   ]
  },
  {
   "cell_type": "code",
   "execution_count": 31,
   "metadata": {},
   "outputs": [
    {
     "name": "stdout",
     "output_type": "stream",
     "text": [
      "Number of normal distribution data  1\n",
      "Number of nonnormal distribution data  4\n",
      "Columns with normal distribution on X_train :  ['cons.price.idx']\n",
      "Columns with non - normal distribution on X_train :  ['age', 'duration', 'campaign', 'previous']\n"
     ]
    }
   ],
   "source": [
    "# Check if the data have normal distribution for each numerical column on X_train\n",
    "# If skewness is between -0.5 and 0.5, the distribution is approximately symmetric\n",
    "\n",
    "normaldist_columns = []\n",
    "nonnormaldist_columns = []\n",
    "\n",
    "for i in X_train.select_dtypes(exclude='object').columns:\n",
    "    g = X_train[i].skew()\n",
    "    normaldist_columns.append(i) if g <= 0.5 and g >= -0.5 else nonnormaldist_columns.append(i)\n",
    "    \n",
    "print('Number of normal distribution data ',len(normaldist_columns))\n",
    "print('Number of nonnormal distribution data ',len(nonnormaldist_columns))\n",
    "print('Columns with normal distribution on X_train : ', normaldist_columns)\n",
    "print('Columns with non - normal distribution on X_train : ', nonnormaldist_columns)"
   ]
  },
  {
   "cell_type": "markdown",
   "metadata": {},
   "source": [
    "terlihat bahwa terdapat 1 variabel dengan approximately normal distributed yaitu `cons.price.idx` untuk variabel numerik lainnya terdistribusi skew."
   ]
  },
  {
   "cell_type": "code",
   "execution_count": 32,
   "metadata": {},
   "outputs": [],
   "source": [
    "# Define Z-score function to handling outliers in normal distribution data\n",
    "def tukeys_method(df, variable):\n",
    "    \n",
    "    # Input : dataframe & column name\n",
    "    q1 = df[variable].quantile(0.25)\n",
    "    q3 = df[variable].quantile(0.75)\n",
    "    iqr = q3-q1\n",
    "    batas = 3*iqr\n",
    "    \n",
    "    batas_bb = q1 - batas # lower bound\n",
    "    batas_ba = q3 + batas # upper bound\n",
    "    ol = [] # empty list to append outlier x  \n",
    "    for x in (df[variable]):\n",
    "        if x <= batas_bb or x >= batas_ba:\n",
    "            ol.append(x)\n",
    "    return ol"
   ]
  },
  {
   "cell_type": "markdown",
   "metadata": {},
   "source": [
    "disini saya memakai fold iqr = 3 agar tidak terlalu banyak data yang dihilangkan."
   ]
  },
  {
   "cell_type": "code",
   "execution_count": 33,
   "metadata": {},
   "outputs": [
    {
     "data": {
      "text/plain": [
       "776"
      ]
     },
     "execution_count": 33,
     "metadata": {},
     "output_type": "execute_result"
    }
   ],
   "source": [
    "# Collecting outliers\n",
    "\n",
    "outliers = tukeys_method(X_train, 'campaign')       # We use tukeys method because campaign have nonnormal distribution\n",
    "len(outliers)"
   ]
  },
  {
   "cell_type": "code",
   "execution_count": 34,
   "metadata": {},
   "outputs": [],
   "source": [
    "# Get index of outliers in data\n",
    "\n",
    "outl_index = X_train[X_train['campaign'].isin(outliers)].index"
   ]
  },
  {
   "cell_type": "code",
   "execution_count": 35,
   "metadata": {},
   "outputs": [],
   "source": [
    "# Deleting outliers from data\n",
    "\n",
    "X_train = X_train[~X_train['campaign'].isin(outliers)]"
   ]
  },
  {
   "cell_type": "code",
   "execution_count": 36,
   "metadata": {},
   "outputs": [],
   "source": [
    "# Drop rows on y_train based on index of all outliers\n",
    "\n",
    "y_train.drop(outl_index, inplace=True)"
   ]
  },
  {
   "cell_type": "code",
   "execution_count": 37,
   "metadata": {},
   "outputs": [
    {
     "data": {
      "image/png": "[encoded data removed]",
      "text/plain": [
       "<Figure size 1296x1152 with 5 Axes>"
      ]
     },
     "metadata": {
      "needs_background": "light"
     },
     "output_type": "display_data"
    }
   ],
   "source": [
    "# Boxploting every feature on X_train to see outlier (After Handling)\n",
    "x = plt.figure(figsize=(18, 16))\n",
    "for i, j in enumerate(X_train.select_dtypes(exclude='object').columns):\n",
    "    x.add_subplot(5, 2, i+1)\n",
    "    sns.boxplot(X_train[j])\n",
    "    x.tight_layout()\n",
    "plt.tight_layout()"
   ]
  },
  {
   "cell_type": "markdown",
   "metadata": {},
   "source": [
    "outliers di variabel `campaign` sudah berkurang setelah di handling."
   ]
  },
  {
   "cell_type": "markdown",
   "metadata": {},
   "source": [
    "## *Split between nominal and ordinal Categorical Columns*"
   ]
  },
  {
   "cell_type": "code",
   "execution_count": 38,
   "metadata": {},
   "outputs": [],
   "source": [
    "# Splitting ordinal and nominal values\n",
    "ordcat = ['education']\n",
    "ohecat = ['job', 'marital', 'housing', 'loan', 'contact', 'month', 'day_of_week', 'poutcome']"
   ]
  },
  {
   "cell_type": "markdown",
   "metadata": {},
   "source": [
    "## *Target Encoding*"
   ]
  },
  {
   "cell_type": "code",
   "execution_count": 39,
   "metadata": {},
   "outputs": [],
   "source": [
    "# prepare target\n",
    "def prepare_targets(y_train, y_test):\n",
    "\tle = LabelEncoder()\n",
    "\tle.fit(y_train)\n",
    "\ty_train_enc = le.transform(y_train)\n",
    "\ty_test_enc = le.transform(y_test)\n",
    "\treturn y_train_enc, y_test_enc"
   ]
  },
  {
   "cell_type": "code",
   "execution_count": 40,
   "metadata": {},
   "outputs": [],
   "source": [
    "# Encode the target\n",
    "y_train_enc, y_test_enc = prepare_targets(y_train, y_test)"
   ]
  },
  {
   "cell_type": "markdown",
   "metadata": {},
   "source": [
    "## *Model Definition*"
   ]
  },
  {
   "cell_type": "markdown",
   "metadata": {},
   "source": [
    "Task Modelling (Rubrik) : **Membuat model dengan kasus yang dipilih dengan Scikit-Learn (minimal 4 algoritma berbeda)**\n",
    "\n",
    "kali ini akan dipilih 4 model yaitu **Logistic Regression**, **Decision Tree**, **KNN** dan **GaussianNB**, namun akan langsung dicari model (dengan parameter default) yang memberikan cross validation score terbaik. Selanjutnya model terbaik tadi, akan dilakukan hyperparameter tuning dengan munggunakan grid search."
   ]
  },
  {
   "cell_type": "markdown",
   "metadata": {},
   "source": [
    "### Cross Validation Results each Model (with default parameters)"
   ]
  },
  {
   "cell_type": "code",
   "execution_count": 41,
   "metadata": {},
   "outputs": [
    {
     "data": {
      "text/html": [
       "<div>\n",
       "<style scoped>\n",
       "    .dataframe tbody tr th:only-of-type {\n",
       "        vertical-align: middle;\n",
       "    }\n",
       "\n",
       "    .dataframe tbody tr th {\n",
       "        vertical-align: top;\n",
       "    }\n",
       "\n",
       "    .dataframe thead th {\n",
       "        text-align: right;\n",
       "    }\n",
       "</style>\n",
       "<table border=\"1\" class=\"dataframe\">\n",
       "  <thead>\n",
       "    <tr style=\"text-align: right;\">\n",
       "      <th></th>\n",
       "      <th>Model</th>\n",
       "      <th>Cross-Val Score</th>\n",
       "      <th>Std</th>\n",
       "    </tr>\n",
       "  </thead>\n",
       "  <tbody>\n",
       "    <tr>\n",
       "      <th>0</th>\n",
       "      <td>Logistic Regression</td>\n",
       "      <td>0.891341</td>\n",
       "      <td>0.002723</td>\n",
       "    </tr>\n",
       "    <tr>\n",
       "      <th>1</th>\n",
       "      <td>SVM</td>\n",
       "      <td>0.868423</td>\n",
       "      <td>0.005657</td>\n",
       "    </tr>\n",
       "    <tr>\n",
       "      <th>2</th>\n",
       "      <td>Decission Tree</td>\n",
       "      <td>0.872617</td>\n",
       "      <td>0.002304</td>\n",
       "    </tr>\n",
       "    <tr>\n",
       "      <th>3</th>\n",
       "      <td>Random Forest</td>\n",
       "      <td>0.849784</td>\n",
       "      <td>0.003932</td>\n",
       "    </tr>\n",
       "  </tbody>\n",
       "</table>\n",
       "</div>"
      ],
      "text/plain": [
       "                 Model  Cross-Val Score       Std\n",
       "0  Logistic Regression         0.891341  0.002723\n",
       "1                  SVM         0.868423  0.005657\n",
       "2       Decission Tree         0.872617  0.002304\n",
       "3        Random Forest         0.849784  0.003932"
      ]
     },
     "execution_count": 41,
     "metadata": {},
     "output_type": "execute_result"
    }
   ],
   "source": [
    "# Scaling and Encoding data \n",
    "scale_n_encode = ColumnTransformer([('standard', StandardScaler(), normaldist_columns),\n",
    "                                  ('minmax', MinMaxScaler(), nonnormaldist_columns),\n",
    "                                  ('ordinal', OrdinalEncoder(categories= [['illiterate', 'basic.4y', 'basic.6y', 'basic.9y', 'high.school', 'university.degree', 'professional.course']]), ordcat),\n",
    "                                  ('nominal', OneHotEncoder(), ohecat)])\n",
    "\n",
    "# Mencari nilai cross validation terbaik untuk setiap model\n",
    "pipe1 = Pipeline([('preprocessing', scale_n_encode),\n",
    "                 ('model', LogisticRegression(random_state = 0))])\n",
    "pipe2 = Pipeline([('preprocessing', scale_n_encode),\n",
    "                 ('model', DecisionTreeClassifier(random_state = 0))]) \n",
    "pipe3 = Pipeline([('preprocessing', scale_n_encode),\n",
    "                 ('model', KNeighborsClassifier())]) \n",
    "pipe4 = Pipeline([('preprocessing', scale_n_encode),\n",
    "                 ('model', GaussianNB())])\n",
    "\n",
    "#train all models\n",
    "pipe1.fit(X_train, y_train_enc)\n",
    "pipe2.fit(X_train, y_train_enc)\n",
    "pipe3.fit(X_train, y_train_enc)\n",
    "pipe4.fit(X_train, y_train_enc)  \n",
    "\n",
    "# initialize list of lists cross validation scores\n",
    "dfcrsval_raw = [['Logistic Regression', cross_val_score(pipe1, X_train, y_train_enc, cv=5).mean(), cross_val_score(pipe1, X_train, y_train_enc, cv=5).std()],\n",
    "         ['SVM', cross_val_score(pipe2, X_train, y_train_enc, cv=5).mean(), cross_val_score(pipe2, X_train, y_train_enc, cv=5).std()],\n",
    "         ['Decission Tree', cross_val_score(pipe3, X_train, y_train_enc, cv=5).mean(), cross_val_score(pipe3, X_train, y_train_enc, cv=5).std()],\n",
    "         ['Random Forest', cross_val_score(pipe4, X_train, y_train_enc, cv=5).mean(), cross_val_score(pipe4, X_train, y_train_enc, cv=5).std()]]\n",
    "\n",
    "# Create the pandas DataFrame\n",
    "dfcrsval = pd.DataFrame(dfcrsval_raw, columns=['Model', 'Cross-Val Score', 'Std'])\n",
    " \n",
    "# print dataframe of ROC-AUC scores all models\n",
    "dfcrsval"
   ]
  },
  {
   "cell_type": "markdown",
   "metadata": {},
   "source": [
    "Diperoleh model dengan cross-val terbaik yaitu ***Logistic Regression***, selanjutnya akan dilakukan hyperparameter tuning untuk model ini."
   ]
  },
  {
   "cell_type": "markdown",
   "metadata": {},
   "source": [
    "### Hyperparameter Tuning Best Model"
   ]
  },
  {
   "cell_type": "markdown",
   "metadata": {},
   "source": [
    "Sebelum finalisasi model definition, kita akan mencari dulu parameter terbaik berdasarkan gridsearch untuk Logreg model yang akan dipakai."
   ]
  },
  {
   "cell_type": "code",
   "execution_count": 42,
   "metadata": {},
   "outputs": [],
   "source": [
    "# Scaling and Encoding data X_train\n",
    "X_train_final = scale_n_encode.fit_transform(X_train)\n",
    "\n",
    "# Membuat param grid\n",
    "model = LogisticRegression(random_state = 0)\n",
    "solvers = ['newton-cg', 'lbfgs', 'liblinear']\n",
    "penalty = ['none', 'l1', 'l2', 'elasticnet']\n",
    "c_values = [100, 10, 1.0, 0.1, 0.01]\n",
    "\n",
    "# Grid Search\n",
    "param_grid = dict(solver = solvers, penalty = penalty, C = c_values)\n",
    "cv = RepeatedStratifiedKFold(n_splits = 10, n_repeats = 3, random_state = 0)\n",
    "grid_search = GridSearchCV(estimator = model, param_grid = param_grid, n_jobs = -1, cv = cv, scoring = 'accuracy', error_score = 0)\n",
    "grid_result = grid_search.fit(X_train_final, y_train_enc)"
   ]
  },
  {
   "cell_type": "code",
   "execution_count": 43,
   "metadata": {},
   "outputs": [
    {
     "name": "stdout",
     "output_type": "stream",
     "text": [
      "Best: 0.892442 using {'C': 1.0, 'penalty': 'l1', 'solver': 'liblinear'}\n",
      "0.892358 (0.003594) with: {'C': 100, 'penalty': 'none', 'solver': 'newton-cg'}\n",
      "0.892386 (0.003622) with: {'C': 100, 'penalty': 'none', 'solver': 'lbfgs'}\n",
      "0.000000 (0.000000) with: {'C': 100, 'penalty': 'none', 'solver': 'liblinear'}\n",
      "0.000000 (0.000000) with: {'C': 100, 'penalty': 'l1', 'solver': 'newton-cg'}\n",
      "0.000000 (0.000000) with: {'C': 100, 'penalty': 'l1', 'solver': 'lbfgs'}\n",
      "0.892358 (0.003594) with: {'C': 100, 'penalty': 'l1', 'solver': 'liblinear'}\n",
      "0.892315 (0.003503) with: {'C': 100, 'penalty': 'l2', 'solver': 'newton-cg'}\n",
      "0.892273 (0.003555) with: {'C': 100, 'penalty': 'l2', 'solver': 'lbfgs'}\n",
      "0.892315 (0.003503) with: {'C': 100, 'penalty': 'l2', 'solver': 'liblinear'}\n",
      "0.000000 (0.000000) with: {'C': 100, 'penalty': 'elasticnet', 'solver': 'newton-cg'}\n",
      "0.000000 (0.000000) with: {'C': 100, 'penalty': 'elasticnet', 'solver': 'lbfgs'}\n",
      "0.000000 (0.000000) with: {'C': 100, 'penalty': 'elasticnet', 'solver': 'liblinear'}\n",
      "0.892358 (0.003594) with: {'C': 10, 'penalty': 'none', 'solver': 'newton-cg'}\n",
      "0.892386 (0.003622) with: {'C': 10, 'penalty': 'none', 'solver': 'lbfgs'}\n",
      "0.000000 (0.000000) with: {'C': 10, 'penalty': 'none', 'solver': 'liblinear'}\n",
      "0.000000 (0.000000) with: {'C': 10, 'penalty': 'l1', 'solver': 'newton-cg'}\n",
      "0.000000 (0.000000) with: {'C': 10, 'penalty': 'l1', 'solver': 'lbfgs'}\n",
      "0.892287 (0.003560) with: {'C': 10, 'penalty': 'l1', 'solver': 'liblinear'}\n",
      "0.892329 (0.003647) with: {'C': 10, 'penalty': 'l2', 'solver': 'newton-cg'}\n",
      "0.892287 (0.003620) with: {'C': 10, 'penalty': 'l2', 'solver': 'lbfgs'}\n",
      "0.892329 (0.003647) with: {'C': 10, 'penalty': 'l2', 'solver': 'liblinear'}\n",
      "0.000000 (0.000000) with: {'C': 10, 'penalty': 'elasticnet', 'solver': 'newton-cg'}\n",
      "0.000000 (0.000000) with: {'C': 10, 'penalty': 'elasticnet', 'solver': 'lbfgs'}\n",
      "0.000000 (0.000000) with: {'C': 10, 'penalty': 'elasticnet', 'solver': 'liblinear'}\n",
      "0.892358 (0.003594) with: {'C': 1.0, 'penalty': 'none', 'solver': 'newton-cg'}\n",
      "0.892386 (0.003622) with: {'C': 1.0, 'penalty': 'none', 'solver': 'lbfgs'}\n",
      "0.000000 (0.000000) with: {'C': 1.0, 'penalty': 'none', 'solver': 'liblinear'}\n",
      "0.000000 (0.000000) with: {'C': 1.0, 'penalty': 'l1', 'solver': 'newton-cg'}\n",
      "0.000000 (0.000000) with: {'C': 1.0, 'penalty': 'l1', 'solver': 'lbfgs'}\n",
      "0.892442 (0.003627) with: {'C': 1.0, 'penalty': 'l1', 'solver': 'liblinear'}\n",
      "0.890691 (0.003428) with: {'C': 1.0, 'penalty': 'l2', 'solver': 'newton-cg'}\n",
      "0.890663 (0.003458) with: {'C': 1.0, 'penalty': 'l2', 'solver': 'lbfgs'}\n",
      "0.890691 (0.003402) with: {'C': 1.0, 'penalty': 'l2', 'solver': 'liblinear'}\n",
      "0.000000 (0.000000) with: {'C': 1.0, 'penalty': 'elasticnet', 'solver': 'newton-cg'}\n",
      "0.000000 (0.000000) with: {'C': 1.0, 'penalty': 'elasticnet', 'solver': 'lbfgs'}\n",
      "0.000000 (0.000000) with: {'C': 1.0, 'penalty': 'elasticnet', 'solver': 'liblinear'}\n",
      "0.892358 (0.003594) with: {'C': 0.1, 'penalty': 'none', 'solver': 'newton-cg'}\n",
      "0.892386 (0.003622) with: {'C': 0.1, 'penalty': 'none', 'solver': 'lbfgs'}\n",
      "0.000000 (0.000000) with: {'C': 0.1, 'penalty': 'none', 'solver': 'liblinear'}\n",
      "0.000000 (0.000000) with: {'C': 0.1, 'penalty': 'l1', 'solver': 'newton-cg'}\n",
      "0.000000 (0.000000) with: {'C': 0.1, 'penalty': 'l1', 'solver': 'lbfgs'}\n",
      "0.890931 (0.003719) with: {'C': 0.1, 'penalty': 'l1', 'solver': 'liblinear'}\n",
      "0.885071 (0.003019) with: {'C': 0.1, 'penalty': 'l2', 'solver': 'newton-cg'}\n",
      "0.885114 (0.003036) with: {'C': 0.1, 'penalty': 'l2', 'solver': 'lbfgs'}\n",
      "0.885142 (0.003039) with: {'C': 0.1, 'penalty': 'l2', 'solver': 'liblinear'}\n",
      "0.000000 (0.000000) with: {'C': 0.1, 'penalty': 'elasticnet', 'solver': 'newton-cg'}\n",
      "0.000000 (0.000000) with: {'C': 0.1, 'penalty': 'elasticnet', 'solver': 'lbfgs'}\n",
      "0.000000 (0.000000) with: {'C': 0.1, 'penalty': 'elasticnet', 'solver': 'liblinear'}\n",
      "0.892358 (0.003594) with: {'C': 0.01, 'penalty': 'none', 'solver': 'newton-cg'}\n",
      "0.892386 (0.003622) with: {'C': 0.01, 'penalty': 'none', 'solver': 'lbfgs'}\n",
      "0.000000 (0.000000) with: {'C': 0.01, 'penalty': 'none', 'solver': 'liblinear'}\n",
      "0.000000 (0.000000) with: {'C': 0.01, 'penalty': 'l1', 'solver': 'newton-cg'}\n",
      "0.000000 (0.000000) with: {'C': 0.01, 'penalty': 'l1', 'solver': 'lbfgs'}\n",
      "0.879692 (0.002081) with: {'C': 0.01, 'penalty': 'l1', 'solver': 'liblinear'}\n",
      "0.878986 (0.002597) with: {'C': 0.01, 'penalty': 'l2', 'solver': 'newton-cg'}\n",
      "0.878986 (0.002597) with: {'C': 0.01, 'penalty': 'l2', 'solver': 'lbfgs'}\n",
      "0.879494 (0.002497) with: {'C': 0.01, 'penalty': 'l2', 'solver': 'liblinear'}\n",
      "0.000000 (0.000000) with: {'C': 0.01, 'penalty': 'elasticnet', 'solver': 'newton-cg'}\n",
      "0.000000 (0.000000) with: {'C': 0.01, 'penalty': 'elasticnet', 'solver': 'lbfgs'}\n",
      "0.000000 (0.000000) with: {'C': 0.01, 'penalty': 'elasticnet', 'solver': 'liblinear'}\n"
     ]
    }
   ],
   "source": [
    "# summarize results\n",
    "print(\"Best: %f using %s\" % (grid_result.best_score_, grid_result.best_params_))\n",
    "means = grid_result.cv_results_['mean_test_score']\n",
    "stds = grid_result.cv_results_['std_test_score']\n",
    "params = grid_result.cv_results_['params']\n",
    "for mean, stdev, param in zip(means, stds, params):\n",
    "    print(\"%f (%f) with: %r\" % (mean, stdev, param))"
   ]
  },
  {
   "cell_type": "markdown",
   "metadata": {},
   "source": [
    "Berdasarkan gridsearch, diperoleh parameter terbaik untuk model adalah \n",
    "```python\n",
    "{'C': 1.0, 'penalty': 'l1', 'solver': 'liblinear'}\n",
    "```"
   ]
  },
  {
   "cell_type": "markdown",
   "metadata": {},
   "source": [
    "### Model Definition with the Best Parameters"
   ]
  },
  {
   "cell_type": "code",
   "execution_count": 44,
   "metadata": {},
   "outputs": [],
   "source": [
    "# Defining the model with best parameters\n",
    "pipe = Pipeline([('preprocessing', scale_n_encode),\n",
    "                 ('model', LogisticRegression(C = 1.0, penalty = 'l1', solver = 'liblinear', random_state  = 0))])"
   ]
  },
  {
   "cell_type": "markdown",
   "metadata": {},
   "source": [
    "## *Model Training*"
   ]
  },
  {
   "cell_type": "code",
   "execution_count": 45,
   "metadata": {},
   "outputs": [
    {
     "data": {
      "text/html": [
       "<style>#sk-container-id-1 {color: black;background-color: white;}#sk-container-id-1 pre{padding: 0;}#sk-container-id-1 div.sk-toggleable {background-color: white;}#sk-container-id-1 label.sk-toggleable__label {cursor: pointer;display: block;width: 100%;margin-bottom: 0;padding: 0.3em;box-sizing: border-box;text-align: center;}#sk-container-id-1 label.sk-toggleable__label-arrow:before {content: \"▸\";float: left;margin-right: 0.25em;color: #696969;}#sk-container-id-1 label.sk-toggleable__label-arrow:hover:before {color: black;}#sk-container-id-1 div.sk-estimator:hover label.sk-toggleable__label-arrow:before {color: black;}#sk-container-id-1 div.sk-toggleable__content {max-height: 0;max-width: 0;overflow: hidden;text-align: left;background-color: #f0f8ff;}#sk-container-id-1 div.sk-toggleable__content pre {margin: 0.2em;color: black;border-radius: 0.25em;background-color: #f0f8ff;}#sk-container-id-1 input.sk-toggleable__control:checked~div.sk-toggleable__content {max-height: 200px;max-width: 100%;overflow: auto;}#sk-container-id-1 input.sk-toggleable__control:checked~label.sk-toggleable__label-arrow:before {content: \"▾\";}#sk-container-id-1 div.sk-estimator input.sk-toggleable__control:checked~label.sk-toggleable__label {background-color: #d4ebff;}#sk-container-id-1 div.sk-label input.sk-toggleable__control:checked~label.sk-toggleable__label {background-color: #d4ebff;}#sk-container-id-1 input.sk-hidden--visually {border: 0;clip: rect(1px 1px 1px 1px);clip: rect(1px, 1px, 1px, 1px);height: 1px;margin: -1px;overflow: hidden;padding: 0;position: absolute;width: 1px;}#sk-container-id-1 div.sk-estimator {font-family: monospace;background-color: #f0f8ff;border: 1px dotted black;border-radius: 0.25em;box-sizing: border-box;margin-bottom: 0.5em;}#sk-container-id-1 div.sk-estimator:hover {background-color: #d4ebff;}#sk-container-id-1 div.sk-parallel-item::after {content: \"\";width: 100%;border-bottom: 1px solid gray;flex-grow: 1;}#sk-container-id-1 div.sk-label:hover label.sk-toggleable__label {background-color: #d4ebff;}#sk-container-id-1 div.sk-serial::before {content: \"\";position: absolute;border-left: 1px solid gray;box-sizing: border-box;top: 0;bottom: 0;left: 50%;z-index: 0;}#sk-container-id-1 div.sk-serial {display: flex;flex-direction: column;align-items: center;background-color: white;padding-right: 0.2em;padding-left: 0.2em;position: relative;}#sk-container-id-1 div.sk-item {position: relative;z-index: 1;}#sk-container-id-1 div.sk-parallel {display: flex;align-items: stretch;justify-content: center;background-color: white;position: relative;}#sk-container-id-1 div.sk-item::before, #sk-container-id-1 div.sk-parallel-item::before {content: \"\";position: absolute;border-left: 1px solid gray;box-sizing: border-box;top: 0;bottom: 0;left: 50%;z-index: -1;}#sk-container-id-1 div.sk-parallel-item {display: flex;flex-direction: column;z-index: 1;position: relative;background-color: white;}#sk-container-id-1 div.sk-parallel-item:first-child::after {align-self: flex-end;width: 50%;}#sk-container-id-1 div.sk-parallel-item:last-child::after {align-self: flex-start;width: 50%;}#sk-container-id-1 div.sk-parallel-item:only-child::after {width: 0;}#sk-container-id-1 div.sk-dashed-wrapped {border: 1px dashed gray;margin: 0 0.4em 0.5em 0.4em;box-sizing: border-box;padding-bottom: 0.4em;background-color: white;}#sk-container-id-1 div.sk-label label {font-family: monospace;font-weight: bold;display: inline-block;line-height: 1.2em;}#sk-container-id-1 div.sk-label-container {text-align: center;}#sk-container-id-1 div.sk-container {/* jupyter's `normalize.less` sets `[hidden] { display: none; }` but bootstrap.min.css set `[hidden] { display: none !important; }` so we also need the `!important` here to be able to override the default hidden behavior on the sphinx rendered scikit-learn.org. See: https://github.com/scikit-learn/scikit-learn/issues/21755 */display: inline-block !important;position: relative;}#sk-container-id-1 div.sk-text-repr-fallback {display: none;}</style><div id=\"sk-container-id-1\" class=\"sk-top-container\"><div class=\"sk-text-repr-fallback\"><pre>Pipeline(steps=[(&#x27;preprocessing&#x27;,\n",
       "                 ColumnTransformer(transformers=[(&#x27;standard&#x27;, StandardScaler(),\n",
       "                                                  [&#x27;cons.price.idx&#x27;]),\n",
       "                                                 (&#x27;minmax&#x27;, MinMaxScaler(),\n",
       "                                                  [&#x27;age&#x27;, &#x27;duration&#x27;,\n",
       "                                                   &#x27;campaign&#x27;, &#x27;previous&#x27;]),\n",
       "                                                 (&#x27;ordinal&#x27;,\n",
       "                                                  OrdinalEncoder(categories=[[&#x27;illiterate&#x27;,\n",
       "                                                                              &#x27;basic.4y&#x27;,\n",
       "                                                                              &#x27;basic.6y&#x27;,\n",
       "                                                                              &#x27;basic.9y&#x27;,\n",
       "                                                                              &#x27;high.school&#x27;,\n",
       "                                                                              &#x27;university.degree&#x27;,\n",
       "                                                                              &#x27;professional.course&#x27;]]),\n",
       "                                                  [&#x27;education&#x27;]),\n",
       "                                                 (&#x27;nominal&#x27;, OneHotEncoder(),\n",
       "                                                  [&#x27;job&#x27;, &#x27;marital&#x27;, &#x27;housing&#x27;,\n",
       "                                                   &#x27;loan&#x27;, &#x27;contact&#x27;, &#x27;month&#x27;,\n",
       "                                                   &#x27;day_of_week&#x27;,\n",
       "                                                   &#x27;poutcome&#x27;])])),\n",
       "                (&#x27;model&#x27;,\n",
       "                 LogisticRegression(penalty=&#x27;l1&#x27;, random_state=0,\n",
       "                                    solver=&#x27;liblinear&#x27;))])</pre><b>In a Jupyter environment, please rerun this cell to show the HTML representation or trust the notebook. <br />On GitHub, the HTML representation is unable to render, please try loading this page with nbviewer.org.</b></div><div class=\"sk-container\" hidden><div class=\"sk-item sk-dashed-wrapped\"><div class=\"sk-label-container\"><div class=\"sk-label sk-toggleable\"><input class=\"sk-toggleable__control sk-hidden--visually\" id=\"sk-estimator-id-1\" type=\"checkbox\" ><label for=\"sk-estimator-id-1\" class=\"sk-toggleable__label sk-toggleable__label-arrow\">Pipeline</label><div class=\"sk-toggleable__content\"><pre>Pipeline(steps=[(&#x27;preprocessing&#x27;,\n",
       "                 ColumnTransformer(transformers=[(&#x27;standard&#x27;, StandardScaler(),\n",
       "                                                  [&#x27;cons.price.idx&#x27;]),\n",
       "                                                 (&#x27;minmax&#x27;, MinMaxScaler(),\n",
       "                                                  [&#x27;age&#x27;, &#x27;duration&#x27;,\n",
       "                                                   &#x27;campaign&#x27;, &#x27;previous&#x27;]),\n",
       "                                                 (&#x27;ordinal&#x27;,\n",
       "                                                  OrdinalEncoder(categories=[[&#x27;illiterate&#x27;,\n",
       "                                                                              &#x27;basic.4y&#x27;,\n",
       "                                                                              &#x27;basic.6y&#x27;,\n",
       "                                                                              &#x27;basic.9y&#x27;,\n",
       "                                                                              &#x27;high.school&#x27;,\n",
       "                                                                              &#x27;university.degree&#x27;,\n",
       "                                                                              &#x27;professional.course&#x27;]]),\n",
       "                                                  [&#x27;education&#x27;]),\n",
       "                                                 (&#x27;nominal&#x27;, OneHotEncoder(),\n",
       "                                                  [&#x27;job&#x27;, &#x27;marital&#x27;, &#x27;housing&#x27;,\n",
       "                                                   &#x27;loan&#x27;, &#x27;contact&#x27;, &#x27;month&#x27;,\n",
       "                                                   &#x27;day_of_week&#x27;,\n",
       "                                                   &#x27;poutcome&#x27;])])),\n",
       "                (&#x27;model&#x27;,\n",
       "                 LogisticRegression(penalty=&#x27;l1&#x27;, random_state=0,\n",
       "                                    solver=&#x27;liblinear&#x27;))])</pre></div></div></div><div class=\"sk-serial\"><div class=\"sk-item sk-dashed-wrapped\"><div class=\"sk-label-container\"><div class=\"sk-label sk-toggleable\"><input class=\"sk-toggleable__control sk-hidden--visually\" id=\"sk-estimator-id-2\" type=\"checkbox\" ><label for=\"sk-estimator-id-2\" class=\"sk-toggleable__label sk-toggleable__label-arrow\">preprocessing: ColumnTransformer</label><div class=\"sk-toggleable__content\"><pre>ColumnTransformer(transformers=[(&#x27;standard&#x27;, StandardScaler(),\n",
       "                                 [&#x27;cons.price.idx&#x27;]),\n",
       "                                (&#x27;minmax&#x27;, MinMaxScaler(),\n",
       "                                 [&#x27;age&#x27;, &#x27;duration&#x27;, &#x27;campaign&#x27;, &#x27;previous&#x27;]),\n",
       "                                (&#x27;ordinal&#x27;,\n",
       "                                 OrdinalEncoder(categories=[[&#x27;illiterate&#x27;,\n",
       "                                                             &#x27;basic.4y&#x27;,\n",
       "                                                             &#x27;basic.6y&#x27;,\n",
       "                                                             &#x27;basic.9y&#x27;,\n",
       "                                                             &#x27;high.school&#x27;,\n",
       "                                                             &#x27;university.degree&#x27;,\n",
       "                                                             &#x27;professional.course&#x27;]]),\n",
       "                                 [&#x27;education&#x27;]),\n",
       "                                (&#x27;nominal&#x27;, OneHotEncoder(),\n",
       "                                 [&#x27;job&#x27;, &#x27;marital&#x27;, &#x27;housing&#x27;, &#x27;loan&#x27;,\n",
       "                                  &#x27;contact&#x27;, &#x27;month&#x27;, &#x27;day_of_week&#x27;,\n",
       "                                  &#x27;poutcome&#x27;])])</pre></div></div></div><div class=\"sk-parallel\"><div class=\"sk-parallel-item\"><div class=\"sk-item\"><div class=\"sk-label-container\"><div class=\"sk-label sk-toggleable\"><input class=\"sk-toggleable__control sk-hidden--visually\" id=\"sk-estimator-id-3\" type=\"checkbox\" ><label for=\"sk-estimator-id-3\" class=\"sk-toggleable__label sk-toggleable__label-arrow\">standard</label><div class=\"sk-toggleable__content\"><pre>[&#x27;cons.price.idx&#x27;]</pre></div></div></div><div class=\"sk-serial\"><div class=\"sk-item\"><div class=\"sk-estimator sk-toggleable\"><input class=\"sk-toggleable__control sk-hidden--visually\" id=\"sk-estimator-id-4\" type=\"checkbox\" ><label for=\"sk-estimator-id-4\" class=\"sk-toggleable__label sk-toggleable__label-arrow\">StandardScaler</label><div class=\"sk-toggleable__content\"><pre>StandardScaler()</pre></div></div></div></div></div></div><div class=\"sk-parallel-item\"><div class=\"sk-item\"><div class=\"sk-label-container\"><div class=\"sk-label sk-toggleable\"><input class=\"sk-toggleable__control sk-hidden--visually\" id=\"sk-estimator-id-5\" type=\"checkbox\" ><label for=\"sk-estimator-id-5\" class=\"sk-toggleable__label sk-toggleable__label-arrow\">minmax</label><div class=\"sk-toggleable__content\"><pre>[&#x27;age&#x27;, &#x27;duration&#x27;, &#x27;campaign&#x27;, &#x27;previous&#x27;]</pre></div></div></div><div class=\"sk-serial\"><div class=\"sk-item\"><div class=\"sk-estimator sk-toggleable\"><input class=\"sk-toggleable__control sk-hidden--visually\" id=\"sk-estimator-id-6\" type=\"checkbox\" ><label for=\"sk-estimator-id-6\" class=\"sk-toggleable__label sk-toggleable__label-arrow\">MinMaxScaler</label><div class=\"sk-toggleable__content\"><pre>MinMaxScaler()</pre></div></div></div></div></div></div><div class=\"sk-parallel-item\"><div class=\"sk-item\"><div class=\"sk-label-container\"><div class=\"sk-label sk-toggleable\"><input class=\"sk-toggleable__control sk-hidden--visually\" id=\"sk-estimator-id-7\" type=\"checkbox\" ><label for=\"sk-estimator-id-7\" class=\"sk-toggleable__label sk-toggleable__label-arrow\">ordinal</label><div class=\"sk-toggleable__content\"><pre>[&#x27;education&#x27;]</pre></div></div></div><div class=\"sk-serial\"><div class=\"sk-item\"><div class=\"sk-estimator sk-toggleable\"><input class=\"sk-toggleable__control sk-hidden--visually\" id=\"sk-estimator-id-8\" type=\"checkbox\" ><label for=\"sk-estimator-id-8\" class=\"sk-toggleable__label sk-toggleable__label-arrow\">OrdinalEncoder</label><div class=\"sk-toggleable__content\"><pre>OrdinalEncoder(categories=[[&#x27;illiterate&#x27;, &#x27;basic.4y&#x27;, &#x27;basic.6y&#x27;, &#x27;basic.9y&#x27;,\n",
       "                            &#x27;high.school&#x27;, &#x27;university.degree&#x27;,\n",
       "                            &#x27;professional.course&#x27;]])</pre></div></div></div></div></div></div><div class=\"sk-parallel-item\"><div class=\"sk-item\"><div class=\"sk-label-container\"><div class=\"sk-label sk-toggleable\"><input class=\"sk-toggleable__control sk-hidden--visually\" id=\"sk-estimator-id-9\" type=\"checkbox\" ><label for=\"sk-estimator-id-9\" class=\"sk-toggleable__label sk-toggleable__label-arrow\">nominal</label><div class=\"sk-toggleable__content\"><pre>[&#x27;job&#x27;, &#x27;marital&#x27;, &#x27;housing&#x27;, &#x27;loan&#x27;, &#x27;contact&#x27;, &#x27;month&#x27;, &#x27;day_of_week&#x27;, &#x27;poutcome&#x27;]</pre></div></div></div><div class=\"sk-serial\"><div class=\"sk-item\"><div class=\"sk-estimator sk-toggleable\"><input class=\"sk-toggleable__control sk-hidden--visually\" id=\"sk-estimator-id-10\" type=\"checkbox\" ><label for=\"sk-estimator-id-10\" class=\"sk-toggleable__label sk-toggleable__label-arrow\">OneHotEncoder</label><div class=\"sk-toggleable__content\"><pre>OneHotEncoder()</pre></div></div></div></div></div></div></div></div><div class=\"sk-item\"><div class=\"sk-estimator sk-toggleable\"><input class=\"sk-toggleable__control sk-hidden--visually\" id=\"sk-estimator-id-11\" type=\"checkbox\" ><label for=\"sk-estimator-id-11\" class=\"sk-toggleable__label sk-toggleable__label-arrow\">LogisticRegression</label><div class=\"sk-toggleable__content\"><pre>LogisticRegression(penalty=&#x27;l1&#x27;, random_state=0, solver=&#x27;liblinear&#x27;)</pre></div></div></div></div></div></div></div>"
      ],
      "text/plain": [
       "Pipeline(steps=[('preprocessing',\n",
       "                 ColumnTransformer(transformers=[('standard', StandardScaler(),\n",
       "                                                  ['cons.price.idx']),\n",
       "                                                 ('minmax', MinMaxScaler(),\n",
       "                                                  ['age', 'duration',\n",
       "                                                   'campaign', 'previous']),\n",
       "                                                 ('ordinal',\n",
       "                                                  OrdinalEncoder(categories=[['illiterate',\n",
       "                                                                              'basic.4y',\n",
       "                                                                              'basic.6y',\n",
       "                                                                              'basic.9y',\n",
       "                                                                              'high.school',\n",
       "                                                                              'university.degree',\n",
       "                                                                              'professional.course']]),\n",
       "                                                  ['education']),\n",
       "                                                 ('nominal', OneHotEncoder(),\n",
       "                                                  ['job', 'marital', 'housing',\n",
       "                                                   'loan', 'contact', 'month',\n",
       "                                                   'day_of_week',\n",
       "                                                   'poutcome'])])),\n",
       "                ('model',\n",
       "                 LogisticRegression(penalty='l1', random_state=0,\n",
       "                                    solver='liblinear'))])"
      ]
     },
     "execution_count": 45,
     "metadata": {},
     "output_type": "execute_result"
    }
   ],
   "source": [
    "# Train the Model \n",
    "pipe.fit(X_train, y_train_enc)"
   ]
  },
  {
   "cell_type": "markdown",
   "metadata": {},
   "source": [
    "## *Model Evaluation*"
   ]
  },
  {
   "cell_type": "markdown",
   "metadata": {},
   "source": [
    "### *Accuracy and ROC-AUC*"
   ]
  },
  {
   "cell_type": "code",
   "execution_count": 46,
   "metadata": {},
   "outputs": [
    {
     "data": {
      "text/html": [
       "<div>\n",
       "<style scoped>\n",
       "    .dataframe tbody tr th:only-of-type {\n",
       "        vertical-align: middle;\n",
       "    }\n",
       "\n",
       "    .dataframe tbody tr th {\n",
       "        vertical-align: top;\n",
       "    }\n",
       "\n",
       "    .dataframe thead tr th {\n",
       "        text-align: left;\n",
       "    }\n",
       "</style>\n",
       "<table border=\"1\" class=\"dataframe\">\n",
       "  <thead>\n",
       "    <tr>\n",
       "      <th></th>\n",
       "      <th>Metrics</th>\n",
       "      <th>Train Set</th>\n",
       "      <th>Test Set</th>\n",
       "    </tr>\n",
       "  </thead>\n",
       "  <tbody>\n",
       "    <tr>\n",
       "      <th>0</th>\n",
       "      <td>Accuracy</td>\n",
       "      <td>0.892909</td>\n",
       "      <td>0.897310</td>\n",
       "    </tr>\n",
       "    <tr>\n",
       "      <th>1</th>\n",
       "      <td>ROC-AUC</td>\n",
       "      <td>0.667908</td>\n",
       "      <td>0.666273</td>\n",
       "    </tr>\n",
       "  </tbody>\n",
       "</table>\n",
       "</div>"
      ],
      "text/plain": [
       "    Metrics Train Set  Test Set\n",
       "0  Accuracy  0.892909  0.897310\n",
       "1   ROC-AUC  0.667908  0.666273"
      ]
     },
     "execution_count": 46,
     "metadata": {},
     "output_type": "execute_result"
    }
   ],
   "source": [
    "# Predict against Train-Set and Test-Set & print accuracy scores\n",
    "y_pred_train = pipe.predict(X_train)\n",
    "y_pred_test = pipe.predict(X_test)\n",
    "\n",
    "# Accuracy score\n",
    "accdata = pd.DataFrame([['Accuracy', accuracy_score(y_train_enc, y_pred_train), accuracy_score(y_test_enc, y_pred_test)],\n",
    "                        ['ROC-AUC', roc_auc_score(y_train_enc, y_pred_train), roc_auc_score(y_test_enc, y_pred_test)]],\n",
    "                       columns = [['Metrics', 'Train Set', 'Test Set']])\n",
    "accdata"
   ]
  },
  {
   "cell_type": "markdown",
   "metadata": {},
   "source": [
    "Berdasarkan accuracy score, model ini cukup bagus karena accuracy nya yang cukup tinggi dan model memprediksi sedikit lebih baik di test set. Namun ROC-AUC score hanya berkisar `66%` di train dan test set. Selanjutnya performansi model akan di analisis berdasarkan classification report."
   ]
  },
  {
   "cell_type": "markdown",
   "metadata": {},
   "source": [
    "### *Classification Report*"
   ]
  },
  {
   "cell_type": "code",
   "execution_count": 47,
   "metadata": {},
   "outputs": [
    {
     "name": "stdout",
     "output_type": "stream",
     "text": [
      "LogReg Model Classification Report for train set:\n",
      "               precision    recall  f1-score   support\n",
      "\n",
      "           0       0.91      0.97      0.94     20555\n",
      "           1       0.65      0.36      0.47      3051\n",
      "\n",
      "    accuracy                           0.89     23606\n",
      "   macro avg       0.78      0.67      0.70     23606\n",
      "weighted avg       0.88      0.89      0.88     23606\n",
      "\n",
      "LogReg Model Classification Report for test set:\n",
      "               precision    recall  f1-score   support\n",
      "\n",
      "           0       0.91      0.98      0.94      5326\n",
      "           1       0.68      0.36      0.47       770\n",
      "\n",
      "    accuracy                           0.90      6096\n",
      "   macro avg       0.80      0.67      0.71      6096\n",
      "weighted avg       0.88      0.90      0.88      6096\n",
      "\n"
     ]
    }
   ],
   "source": [
    "# SVM Model Classification report for train and test set\n",
    "\n",
    "print(\"LogReg Model Classification Report for train set:\\n\", classification_report(y_train_enc, y_pred_train))\n",
    "print(\"LogReg Model Classification Report for test set:\\n\", classification_report(y_test_enc, y_pred_test))"
   ]
  },
  {
   "cell_type": "markdown",
   "metadata": {},
   "source": [
    "Recall description :\n",
    "\n",
    "\n",
    "| Recall train set (class 0) | Recall train set (class 1) | Recall test set (class 0)| Recall test set (class 1)|\n",
    "| --- | --- | --- | --- |\n",
    "| 0.97 | 0.36 | 0.98 | 0.36 |\n",
    "\n",
    "\n",
    "Nilai Recall di kedua kelas target sangat jauh berbeda, hal ini terjadi karena ada imbalanced class di variabel target. \n",
    "Nilai recall untuk class 0 (tidak deposit) adalah `97%` di train set artinya model memprediksi klien tidak deposit dengan rasio `97%` terhadap jumlah klien tidak deposit terprediksi tidak deposit dan klien tidak deposit terprediksi deposit, sedangkan nilai recall untuk class 1 (deposit) adalah `36%` di train set artinya model memprediksi klien deposit dengan rasio `36%` terhadap jumlah klien deposit terprediksi deposit dan klien deposit terprediksi tidak deposit. Selanjutnya untuk rasio nilai recall di test set hampir sama dengan train set. <br>\n",
    "Apakah dengan membuat data menjadi balance akan mengubah nilai accuracy ? Mari kita coba. (Resampling sudah pasti mengubah nilai recall)"
   ]
  },
  {
   "cell_type": "markdown",
   "metadata": {},
   "source": [
    "## Model Evaluation on Resampling Data"
   ]
  },
  {
   "cell_type": "code",
   "execution_count": 48,
   "metadata": {},
   "outputs": [
    {
     "name": "stdout",
     "output_type": "stream",
     "text": [
      "Original dataset shape Counter({0: 20555, 1: 3051})\n"
     ]
    }
   ],
   "source": [
    "# Cek jumlah class di var target sebelum smote\n",
    "print('Original dataset shape %s' % Counter(y_train_enc))"
   ]
  },
  {
   "cell_type": "markdown",
   "metadata": {},
   "source": [
    "Jumlah tiap class sebelum resampling 20555 banding 3051."
   ]
  },
  {
   "cell_type": "code",
   "execution_count": 49,
   "metadata": {},
   "outputs": [
    {
     "name": "stdout",
     "output_type": "stream",
     "text": [
      "Resampled dataset shape Counter({1: 20555, 0: 20555})\n"
     ]
    }
   ],
   "source": [
    "# Rebalancing\n",
    "sm = SMOTE(random_state=42)\n",
    "X_res, y_res = sm.fit_resample(X_train_final, y_train_enc)\n",
    "print('Resampled dataset shape %s' % Counter(y_res))"
   ]
  },
  {
   "cell_type": "markdown",
   "metadata": {},
   "source": [
    "Setelah resampling jumlah class target sama yaitu 20555."
   ]
  },
  {
   "cell_type": "markdown",
   "metadata": {},
   "source": [
    "### *Accuracy and ROC-AUC*"
   ]
  },
  {
   "cell_type": "code",
   "execution_count": 50,
   "metadata": {},
   "outputs": [
    {
     "data": {
      "text/html": [
       "<div>\n",
       "<style scoped>\n",
       "    .dataframe tbody tr th:only-of-type {\n",
       "        vertical-align: middle;\n",
       "    }\n",
       "\n",
       "    .dataframe tbody tr th {\n",
       "        vertical-align: top;\n",
       "    }\n",
       "\n",
       "    .dataframe thead tr th {\n",
       "        text-align: left;\n",
       "    }\n",
       "</style>\n",
       "<table border=\"1\" class=\"dataframe\">\n",
       "  <thead>\n",
       "    <tr>\n",
       "      <th></th>\n",
       "      <th>Metrics</th>\n",
       "      <th>Train Set</th>\n",
       "      <th>Test Set</th>\n",
       "    </tr>\n",
       "  </thead>\n",
       "  <tbody>\n",
       "    <tr>\n",
       "      <th>0</th>\n",
       "      <td>Accuracy after Rebalancing</td>\n",
       "      <td>0.85495</td>\n",
       "      <td>0.790682</td>\n",
       "    </tr>\n",
       "    <tr>\n",
       "      <th>1</th>\n",
       "      <td>ROC-AUC after Rebalancing</td>\n",
       "      <td>0.85495</td>\n",
       "      <td>0.837439</td>\n",
       "    </tr>\n",
       "  </tbody>\n",
       "</table>\n",
       "</div>"
      ],
      "text/plain": [
       "                      Metrics Train Set  Test Set\n",
       "0  Accuracy after Rebalancing   0.85495  0.790682\n",
       "1   ROC-AUC after Rebalancing   0.85495  0.837439"
      ]
     },
     "execution_count": 50,
     "metadata": {},
     "output_type": "execute_result"
    }
   ],
   "source": [
    "# transform X_test terlebih dahulu\n",
    "X_test_ct = scale_n_encode.fit_transform(X_test)\n",
    "\n",
    "# Define the model\n",
    "pipe_res = Pipeline([('model', LogisticRegression(C = 1.0, penalty = 'l1', solver = 'liblinear', random_state  = 0))])\n",
    "# Train the Model \n",
    "pipe_res.fit(X_res, y_res)\n",
    "\n",
    "# Predict against Train-Set and Test-Set & print accuracy scores\n",
    "y_res_pred_train = pipe_res.predict(X_res)\n",
    "y_res_pred_test = pipe_res.predict(X_test_ct)\n",
    "\n",
    "# Accuracy score\n",
    "accdata_res = pd.DataFrame([['Accuracy after Rebalancing', accuracy_score(y_res, y_res_pred_train), accuracy_score(y_test_enc, y_res_pred_test)],\n",
    "                        ['ROC-AUC after Rebalancing', roc_auc_score(y_res, y_res_pred_train), roc_auc_score(y_test_enc, y_res_pred_test)]],\n",
    "                       columns = [['Metrics', 'Train Set', 'Test Set']])\n",
    "accdata_res"
   ]
  },
  {
   "cell_type": "markdown",
   "metadata": {},
   "source": [
    "Accuracy score original data yang sebelumnya `89%` baik di train maupun di test set setelah resampling turun menjadi `85%` di train dan `79%` di test set. Sebaliknya, untuk ROC-AUC score naik menjadi sekitar `84%` untuk train dan test set di resampled data."
   ]
  },
  {
   "cell_type": "markdown",
   "metadata": {},
   "source": [
    "### *Classification Report*"
   ]
  },
  {
   "cell_type": "code",
   "execution_count": 51,
   "metadata": {},
   "outputs": [
    {
     "name": "stdout",
     "output_type": "stream",
     "text": [
      "LogReg Model Classification Report for train set:\n",
      "               precision    recall  f1-score   support\n",
      "\n",
      "           0       0.86      0.85      0.85     20555\n",
      "           1       0.85      0.86      0.85     20555\n",
      "\n",
      "    accuracy                           0.85     41110\n",
      "   macro avg       0.85      0.85      0.85     41110\n",
      "weighted avg       0.85      0.85      0.85     41110\n",
      "\n",
      "LogReg Model Classification Report for test set:\n",
      "               precision    recall  f1-score   support\n",
      "\n",
      "           0       0.98      0.77      0.87      5326\n",
      "           1       0.37      0.90      0.52       770\n",
      "\n",
      "    accuracy                           0.79      6096\n",
      "   macro avg       0.67      0.84      0.69      6096\n",
      "weighted avg       0.90      0.79      0.82      6096\n",
      "\n"
     ]
    }
   ],
   "source": [
    "# Classification report after balancing\n",
    "print(\"LogReg Model Classification Report for train set:\\n\", classification_report(y_res, y_res_pred_train))\n",
    "print(\"LogReg Model Classification Report for test set:\\n\", classification_report(y_test_enc, y_res_pred_test))"
   ]
  },
  {
   "cell_type": "markdown",
   "metadata": {},
   "source": [
    "Recall description :\n",
    "\n",
    "\n",
    "| Perlakuan | Recall train set (class 0) | Recall train set (class 1) | Recall test set (class 0)| Recall test set (class 1)|\n",
    "| --- | --- | --- | --- | --- |\n",
    "| Sebelum rebalance | 0.97 | 0.36 | 0.98 | 0.36 |\n",
    "| Setelah rebalance | 0.85 | 0.86 | 0.77 | 0.90 |\n",
    "\n",
    "\n",
    "Nilai Recall di kedua kelas target sudah lebih baik dari sebelumnya, hal ini terjadi karena data  di variabel target sudah di balancing. \n",
    "Nilai recall untuk class 0 (tidak deposit) adalah `85%` di train set artinya model memprediksi klien tidak deposit dengan rasio `85%` terhadap jumlah klien tidak deposit terprediksi tidak deposit dan klien tidak deposit terprediksi deposit, sedangkan nilai recall untuk class 1 (deposit) hampir sama dengan class 0 yaitu `86%` di train set artinya model memprediksi klien deposit dengan rasio `86%` terhadap jumlah klien deposit terprediksi deposit dan klien deposit terprediksi tidak deposit. Selanjutnya untuk rasio nilai recall di test set naik secara drastis untuk class 1 dari recall value sebelum di balancing yaitu dari `36%` menjadi `90%`, namun terjadi `overfitting` recall karena nilai recall ditest set lebih besar dari train set dengan perbedaan nilai `13%`. <br>\n",
    "Namun, ini secara tidak langsung, sesuai dengan visi company untuk lebih banyak mengusahakan banyak nasabah yang deposit (class 1) melalui pendeteksian behavior marketing yang sesuai dengan model yang diperoleh."
   ]
  },
  {
   "cell_type": "markdown",
   "metadata": {},
   "source": [
    "## *Model Inference*"
   ]
  },
  {
   "cell_type": "code",
   "execution_count": 52,
   "metadata": {},
   "outputs": [
    {
     "data": {
      "text/html": [
       "<div>\n",
       "<style scoped>\n",
       "    .dataframe tbody tr th:only-of-type {\n",
       "        vertical-align: middle;\n",
       "    }\n",
       "\n",
       "    .dataframe tbody tr th {\n",
       "        vertical-align: top;\n",
       "    }\n",
       "\n",
       "    .dataframe thead th {\n",
       "        text-align: right;\n",
       "    }\n",
       "</style>\n",
       "<table border=\"1\" class=\"dataframe\">\n",
       "  <thead>\n",
       "    <tr style=\"text-align: right;\">\n",
       "      <th></th>\n",
       "      <th>age</th>\n",
       "      <th>job</th>\n",
       "      <th>marital</th>\n",
       "      <th>education</th>\n",
       "      <th>default</th>\n",
       "      <th>housing</th>\n",
       "      <th>loan</th>\n",
       "      <th>contact</th>\n",
       "      <th>month</th>\n",
       "      <th>day_of_week</th>\n",
       "      <th>...</th>\n",
       "      <th>campaign</th>\n",
       "      <th>pdays</th>\n",
       "      <th>previous</th>\n",
       "      <th>poutcome</th>\n",
       "      <th>emp.var.rate</th>\n",
       "      <th>cons.price.idx</th>\n",
       "      <th>cons.conf.idx</th>\n",
       "      <th>euribor3m</th>\n",
       "      <th>nr.employed</th>\n",
       "      <th>subscribe</th>\n",
       "    </tr>\n",
       "  </thead>\n",
       "  <tbody>\n",
       "    <tr>\n",
       "      <th>0</th>\n",
       "      <td>37</td>\n",
       "      <td>services</td>\n",
       "      <td>single</td>\n",
       "      <td>basic.9y</td>\n",
       "      <td>no</td>\n",
       "      <td>no</td>\n",
       "      <td>no</td>\n",
       "      <td>cellular</td>\n",
       "      <td>may</td>\n",
       "      <td>tue</td>\n",
       "      <td>...</td>\n",
       "      <td>1</td>\n",
       "      <td>999</td>\n",
       "      <td>0</td>\n",
       "      <td>nonexistent</td>\n",
       "      <td>-1.8</td>\n",
       "      <td>92.893</td>\n",
       "      <td>-46.2</td>\n",
       "      <td>1.344</td>\n",
       "      <td>5099.1</td>\n",
       "      <td>no</td>\n",
       "    </tr>\n",
       "    <tr>\n",
       "      <th>1</th>\n",
       "      <td>53</td>\n",
       "      <td>retired</td>\n",
       "      <td>married</td>\n",
       "      <td>high.school</td>\n",
       "      <td>no</td>\n",
       "      <td>yes</td>\n",
       "      <td>no</td>\n",
       "      <td>cellular</td>\n",
       "      <td>jul</td>\n",
       "      <td>fri</td>\n",
       "      <td>...</td>\n",
       "      <td>7</td>\n",
       "      <td>999</td>\n",
       "      <td>0</td>\n",
       "      <td>nonexistent</td>\n",
       "      <td>1.4</td>\n",
       "      <td>93.918</td>\n",
       "      <td>-42.7</td>\n",
       "      <td>4.962</td>\n",
       "      <td>5228.1</td>\n",
       "      <td>no</td>\n",
       "    </tr>\n",
       "    <tr>\n",
       "      <th>2</th>\n",
       "      <td>31</td>\n",
       "      <td>technician</td>\n",
       "      <td>married</td>\n",
       "      <td>university.degree</td>\n",
       "      <td>no</td>\n",
       "      <td>no</td>\n",
       "      <td>no</td>\n",
       "      <td>cellular</td>\n",
       "      <td>sep</td>\n",
       "      <td>thu</td>\n",
       "      <td>...</td>\n",
       "      <td>1</td>\n",
       "      <td>3</td>\n",
       "      <td>1</td>\n",
       "      <td>success</td>\n",
       "      <td>-1.1</td>\n",
       "      <td>94.199</td>\n",
       "      <td>-37.5</td>\n",
       "      <td>0.878</td>\n",
       "      <td>4963.6</td>\n",
       "      <td>yes</td>\n",
       "    </tr>\n",
       "    <tr>\n",
       "      <th>3</th>\n",
       "      <td>29</td>\n",
       "      <td>entrepreneur</td>\n",
       "      <td>single</td>\n",
       "      <td>professional.course</td>\n",
       "      <td>no</td>\n",
       "      <td>no</td>\n",
       "      <td>no</td>\n",
       "      <td>telephone</td>\n",
       "      <td>jun</td>\n",
       "      <td>wed</td>\n",
       "      <td>...</td>\n",
       "      <td>1</td>\n",
       "      <td>999</td>\n",
       "      <td>0</td>\n",
       "      <td>nonexistent</td>\n",
       "      <td>1.4</td>\n",
       "      <td>94.465</td>\n",
       "      <td>-41.8</td>\n",
       "      <td>4.962</td>\n",
       "      <td>5228.1</td>\n",
       "      <td>no</td>\n",
       "    </tr>\n",
       "    <tr>\n",
       "      <th>4</th>\n",
       "      <td>49</td>\n",
       "      <td>services</td>\n",
       "      <td>divorced</td>\n",
       "      <td>basic.9y</td>\n",
       "      <td>no</td>\n",
       "      <td>no</td>\n",
       "      <td>no</td>\n",
       "      <td>telephone</td>\n",
       "      <td>may</td>\n",
       "      <td>mon</td>\n",
       "      <td>...</td>\n",
       "      <td>2</td>\n",
       "      <td>999</td>\n",
       "      <td>0</td>\n",
       "      <td>nonexistent</td>\n",
       "      <td>1.1</td>\n",
       "      <td>93.994</td>\n",
       "      <td>-36.4</td>\n",
       "      <td>4.858</td>\n",
       "      <td>5191.0</td>\n",
       "      <td>no</td>\n",
       "    </tr>\n",
       "    <tr>\n",
       "      <th>5</th>\n",
       "      <td>70</td>\n",
       "      <td>retired</td>\n",
       "      <td>divorced</td>\n",
       "      <td>high.school</td>\n",
       "      <td>no</td>\n",
       "      <td>yes</td>\n",
       "      <td>no</td>\n",
       "      <td>telephone</td>\n",
       "      <td>may</td>\n",
       "      <td>wed</td>\n",
       "      <td>...</td>\n",
       "      <td>2</td>\n",
       "      <td>4</td>\n",
       "      <td>2</td>\n",
       "      <td>success</td>\n",
       "      <td>-1.8</td>\n",
       "      <td>93.876</td>\n",
       "      <td>-40.0</td>\n",
       "      <td>0.697</td>\n",
       "      <td>5008.7</td>\n",
       "      <td>yes</td>\n",
       "    </tr>\n",
       "    <tr>\n",
       "      <th>6</th>\n",
       "      <td>30</td>\n",
       "      <td>admin.</td>\n",
       "      <td>single</td>\n",
       "      <td>high.school</td>\n",
       "      <td>no</td>\n",
       "      <td>yes</td>\n",
       "      <td>no</td>\n",
       "      <td>cellular</td>\n",
       "      <td>may</td>\n",
       "      <td>thu</td>\n",
       "      <td>...</td>\n",
       "      <td>8</td>\n",
       "      <td>999</td>\n",
       "      <td>1</td>\n",
       "      <td>failure</td>\n",
       "      <td>-1.8</td>\n",
       "      <td>92.893</td>\n",
       "      <td>-46.2</td>\n",
       "      <td>1.266</td>\n",
       "      <td>5099.1</td>\n",
       "      <td>no</td>\n",
       "    </tr>\n",
       "    <tr>\n",
       "      <th>7</th>\n",
       "      <td>40</td>\n",
       "      <td>self-employed</td>\n",
       "      <td>single</td>\n",
       "      <td>university.degree</td>\n",
       "      <td>no</td>\n",
       "      <td>yes</td>\n",
       "      <td>no</td>\n",
       "      <td>cellular</td>\n",
       "      <td>jul</td>\n",
       "      <td>wed</td>\n",
       "      <td>...</td>\n",
       "      <td>3</td>\n",
       "      <td>999</td>\n",
       "      <td>0</td>\n",
       "      <td>nonexistent</td>\n",
       "      <td>1.4</td>\n",
       "      <td>93.918</td>\n",
       "      <td>-42.7</td>\n",
       "      <td>4.963</td>\n",
       "      <td>5228.1</td>\n",
       "      <td>yes</td>\n",
       "    </tr>\n",
       "    <tr>\n",
       "      <th>8</th>\n",
       "      <td>46</td>\n",
       "      <td>technician</td>\n",
       "      <td>divorced</td>\n",
       "      <td>university.degree</td>\n",
       "      <td>no</td>\n",
       "      <td>yes</td>\n",
       "      <td>no</td>\n",
       "      <td>cellular</td>\n",
       "      <td>nov</td>\n",
       "      <td>fri</td>\n",
       "      <td>...</td>\n",
       "      <td>1</td>\n",
       "      <td>999</td>\n",
       "      <td>0</td>\n",
       "      <td>nonexistent</td>\n",
       "      <td>-0.1</td>\n",
       "      <td>93.200</td>\n",
       "      <td>-42.0</td>\n",
       "      <td>4.021</td>\n",
       "      <td>5195.8</td>\n",
       "      <td>no</td>\n",
       "    </tr>\n",
       "    <tr>\n",
       "      <th>9</th>\n",
       "      <td>50</td>\n",
       "      <td>entrepreneur</td>\n",
       "      <td>married</td>\n",
       "      <td>basic.9y</td>\n",
       "      <td>no</td>\n",
       "      <td>yes</td>\n",
       "      <td>no</td>\n",
       "      <td>telephone</td>\n",
       "      <td>may</td>\n",
       "      <td>thu</td>\n",
       "      <td>...</td>\n",
       "      <td>3</td>\n",
       "      <td>999</td>\n",
       "      <td>0</td>\n",
       "      <td>nonexistent</td>\n",
       "      <td>1.1</td>\n",
       "      <td>93.994</td>\n",
       "      <td>-36.4</td>\n",
       "      <td>4.855</td>\n",
       "      <td>5191.0</td>\n",
       "      <td>no</td>\n",
       "    </tr>\n",
       "  </tbody>\n",
       "</table>\n",
       "<p>10 rows × 21 columns</p>\n",
       "</div>"
      ],
      "text/plain": [
       "   age            job   marital            education default housing loan  \\\n",
       "0   37       services    single             basic.9y      no      no   no   \n",
       "1   53        retired   married          high.school      no     yes   no   \n",
       "2   31     technician   married    university.degree      no      no   no   \n",
       "3   29   entrepreneur    single  professional.course      no      no   no   \n",
       "4   49       services  divorced             basic.9y      no      no   no   \n",
       "5   70        retired  divorced          high.school      no     yes   no   \n",
       "6   30         admin.    single          high.school      no     yes   no   \n",
       "7   40  self-employed    single    university.degree      no     yes   no   \n",
       "8   46     technician  divorced    university.degree      no     yes   no   \n",
       "9   50   entrepreneur   married             basic.9y      no     yes   no   \n",
       "\n",
       "     contact month day_of_week  ...  campaign  pdays  previous     poutcome  \\\n",
       "0   cellular   may         tue  ...         1    999         0  nonexistent   \n",
       "1   cellular   jul         fri  ...         7    999         0  nonexistent   \n",
       "2   cellular   sep         thu  ...         1      3         1      success   \n",
       "3  telephone   jun         wed  ...         1    999         0  nonexistent   \n",
       "4  telephone   may         mon  ...         2    999         0  nonexistent   \n",
       "5  telephone   may         wed  ...         2      4         2      success   \n",
       "6   cellular   may         thu  ...         8    999         1      failure   \n",
       "7   cellular   jul         wed  ...         3    999         0  nonexistent   \n",
       "8   cellular   nov         fri  ...         1    999         0  nonexistent   \n",
       "9  telephone   may         thu  ...         3    999         0  nonexistent   \n",
       "\n",
       "  emp.var.rate  cons.price.idx  cons.conf.idx  euribor3m  nr.employed  \\\n",
       "0         -1.8          92.893          -46.2      1.344       5099.1   \n",
       "1          1.4          93.918          -42.7      4.962       5228.1   \n",
       "2         -1.1          94.199          -37.5      0.878       4963.6   \n",
       "3          1.4          94.465          -41.8      4.962       5228.1   \n",
       "4          1.1          93.994          -36.4      4.858       5191.0   \n",
       "5         -1.8          93.876          -40.0      0.697       5008.7   \n",
       "6         -1.8          92.893          -46.2      1.266       5099.1   \n",
       "7          1.4          93.918          -42.7      4.963       5228.1   \n",
       "8         -0.1          93.200          -42.0      4.021       5195.8   \n",
       "9          1.1          93.994          -36.4      4.855       5191.0   \n",
       "\n",
       "   subscribe  \n",
       "0         no  \n",
       "1         no  \n",
       "2        yes  \n",
       "3         no  \n",
       "4         no  \n",
       "5        yes  \n",
       "6         no  \n",
       "7        yes  \n",
       "8         no  \n",
       "9         no  \n",
       "\n",
       "[10 rows x 21 columns]"
      ]
     },
     "execution_count": 52,
     "metadata": {},
     "output_type": "execute_result"
    }
   ],
   "source": [
    "# Display Inference-Set\n",
    "\n",
    "data_inf"
   ]
  },
  {
   "cell_type": "code",
   "execution_count": 53,
   "metadata": {},
   "outputs": [
    {
     "data": {
      "text/html": [
       "<div>\n",
       "<style scoped>\n",
       "    .dataframe tbody tr th:only-of-type {\n",
       "        vertical-align: middle;\n",
       "    }\n",
       "\n",
       "    .dataframe tbody tr th {\n",
       "        vertical-align: top;\n",
       "    }\n",
       "\n",
       "    .dataframe thead th {\n",
       "        text-align: right;\n",
       "    }\n",
       "</style>\n",
       "<table border=\"1\" class=\"dataframe\">\n",
       "  <thead>\n",
       "    <tr style=\"text-align: right;\">\n",
       "      <th></th>\n",
       "      <th>age</th>\n",
       "      <th>job</th>\n",
       "      <th>marital</th>\n",
       "      <th>education</th>\n",
       "      <th>default</th>\n",
       "      <th>housing</th>\n",
       "      <th>loan</th>\n",
       "      <th>contact</th>\n",
       "      <th>month</th>\n",
       "      <th>day_of_week</th>\n",
       "      <th>...</th>\n",
       "      <th>pdays</th>\n",
       "      <th>previous</th>\n",
       "      <th>poutcome</th>\n",
       "      <th>emp.var.rate</th>\n",
       "      <th>cons.price.idx</th>\n",
       "      <th>cons.conf.idx</th>\n",
       "      <th>euribor3m</th>\n",
       "      <th>nr.employed</th>\n",
       "      <th>subscribe</th>\n",
       "      <th>Prediction</th>\n",
       "    </tr>\n",
       "  </thead>\n",
       "  <tbody>\n",
       "    <tr>\n",
       "      <th>0</th>\n",
       "      <td>37</td>\n",
       "      <td>services</td>\n",
       "      <td>single</td>\n",
       "      <td>basic.9y</td>\n",
       "      <td>no</td>\n",
       "      <td>no</td>\n",
       "      <td>no</td>\n",
       "      <td>cellular</td>\n",
       "      <td>may</td>\n",
       "      <td>tue</td>\n",
       "      <td>...</td>\n",
       "      <td>999</td>\n",
       "      <td>0</td>\n",
       "      <td>nonexistent</td>\n",
       "      <td>-1.8</td>\n",
       "      <td>92.893</td>\n",
       "      <td>-46.2</td>\n",
       "      <td>1.344</td>\n",
       "      <td>5099.1</td>\n",
       "      <td>no</td>\n",
       "      <td>0</td>\n",
       "    </tr>\n",
       "    <tr>\n",
       "      <th>1</th>\n",
       "      <td>53</td>\n",
       "      <td>retired</td>\n",
       "      <td>married</td>\n",
       "      <td>high.school</td>\n",
       "      <td>no</td>\n",
       "      <td>yes</td>\n",
       "      <td>no</td>\n",
       "      <td>cellular</td>\n",
       "      <td>jul</td>\n",
       "      <td>fri</td>\n",
       "      <td>...</td>\n",
       "      <td>999</td>\n",
       "      <td>0</td>\n",
       "      <td>nonexistent</td>\n",
       "      <td>1.4</td>\n",
       "      <td>93.918</td>\n",
       "      <td>-42.7</td>\n",
       "      <td>4.962</td>\n",
       "      <td>5228.1</td>\n",
       "      <td>no</td>\n",
       "      <td>0</td>\n",
       "    </tr>\n",
       "    <tr>\n",
       "      <th>2</th>\n",
       "      <td>31</td>\n",
       "      <td>technician</td>\n",
       "      <td>married</td>\n",
       "      <td>university.degree</td>\n",
       "      <td>no</td>\n",
       "      <td>no</td>\n",
       "      <td>no</td>\n",
       "      <td>cellular</td>\n",
       "      <td>sep</td>\n",
       "      <td>thu</td>\n",
       "      <td>...</td>\n",
       "      <td>3</td>\n",
       "      <td>1</td>\n",
       "      <td>success</td>\n",
       "      <td>-1.1</td>\n",
       "      <td>94.199</td>\n",
       "      <td>-37.5</td>\n",
       "      <td>0.878</td>\n",
       "      <td>4963.6</td>\n",
       "      <td>yes</td>\n",
       "      <td>1</td>\n",
       "    </tr>\n",
       "    <tr>\n",
       "      <th>3</th>\n",
       "      <td>29</td>\n",
       "      <td>entrepreneur</td>\n",
       "      <td>single</td>\n",
       "      <td>professional.course</td>\n",
       "      <td>no</td>\n",
       "      <td>no</td>\n",
       "      <td>no</td>\n",
       "      <td>telephone</td>\n",
       "      <td>jun</td>\n",
       "      <td>wed</td>\n",
       "      <td>...</td>\n",
       "      <td>999</td>\n",
       "      <td>0</td>\n",
       "      <td>nonexistent</td>\n",
       "      <td>1.4</td>\n",
       "      <td>94.465</td>\n",
       "      <td>-41.8</td>\n",
       "      <td>4.962</td>\n",
       "      <td>5228.1</td>\n",
       "      <td>no</td>\n",
       "      <td>0</td>\n",
       "    </tr>\n",
       "    <tr>\n",
       "      <th>4</th>\n",
       "      <td>49</td>\n",
       "      <td>services</td>\n",
       "      <td>divorced</td>\n",
       "      <td>basic.9y</td>\n",
       "      <td>no</td>\n",
       "      <td>no</td>\n",
       "      <td>no</td>\n",
       "      <td>telephone</td>\n",
       "      <td>may</td>\n",
       "      <td>mon</td>\n",
       "      <td>...</td>\n",
       "      <td>999</td>\n",
       "      <td>0</td>\n",
       "      <td>nonexistent</td>\n",
       "      <td>1.1</td>\n",
       "      <td>93.994</td>\n",
       "      <td>-36.4</td>\n",
       "      <td>4.858</td>\n",
       "      <td>5191.0</td>\n",
       "      <td>no</td>\n",
       "      <td>0</td>\n",
       "    </tr>\n",
       "    <tr>\n",
       "      <th>5</th>\n",
       "      <td>70</td>\n",
       "      <td>retired</td>\n",
       "      <td>divorced</td>\n",
       "      <td>high.school</td>\n",
       "      <td>no</td>\n",
       "      <td>yes</td>\n",
       "      <td>no</td>\n",
       "      <td>telephone</td>\n",
       "      <td>may</td>\n",
       "      <td>wed</td>\n",
       "      <td>...</td>\n",
       "      <td>4</td>\n",
       "      <td>2</td>\n",
       "      <td>success</td>\n",
       "      <td>-1.8</td>\n",
       "      <td>93.876</td>\n",
       "      <td>-40.0</td>\n",
       "      <td>0.697</td>\n",
       "      <td>5008.7</td>\n",
       "      <td>yes</td>\n",
       "      <td>1</td>\n",
       "    </tr>\n",
       "    <tr>\n",
       "      <th>6</th>\n",
       "      <td>30</td>\n",
       "      <td>admin.</td>\n",
       "      <td>single</td>\n",
       "      <td>high.school</td>\n",
       "      <td>no</td>\n",
       "      <td>yes</td>\n",
       "      <td>no</td>\n",
       "      <td>cellular</td>\n",
       "      <td>may</td>\n",
       "      <td>thu</td>\n",
       "      <td>...</td>\n",
       "      <td>999</td>\n",
       "      <td>1</td>\n",
       "      <td>failure</td>\n",
       "      <td>-1.8</td>\n",
       "      <td>92.893</td>\n",
       "      <td>-46.2</td>\n",
       "      <td>1.266</td>\n",
       "      <td>5099.1</td>\n",
       "      <td>no</td>\n",
       "      <td>0</td>\n",
       "    </tr>\n",
       "    <tr>\n",
       "      <th>7</th>\n",
       "      <td>40</td>\n",
       "      <td>self-employed</td>\n",
       "      <td>single</td>\n",
       "      <td>university.degree</td>\n",
       "      <td>no</td>\n",
       "      <td>yes</td>\n",
       "      <td>no</td>\n",
       "      <td>cellular</td>\n",
       "      <td>jul</td>\n",
       "      <td>wed</td>\n",
       "      <td>...</td>\n",
       "      <td>999</td>\n",
       "      <td>0</td>\n",
       "      <td>nonexistent</td>\n",
       "      <td>1.4</td>\n",
       "      <td>93.918</td>\n",
       "      <td>-42.7</td>\n",
       "      <td>4.963</td>\n",
       "      <td>5228.1</td>\n",
       "      <td>yes</td>\n",
       "      <td>1</td>\n",
       "    </tr>\n",
       "    <tr>\n",
       "      <th>8</th>\n",
       "      <td>46</td>\n",
       "      <td>technician</td>\n",
       "      <td>divorced</td>\n",
       "      <td>university.degree</td>\n",
       "      <td>no</td>\n",
       "      <td>yes</td>\n",
       "      <td>no</td>\n",
       "      <td>cellular</td>\n",
       "      <td>nov</td>\n",
       "      <td>fri</td>\n",
       "      <td>...</td>\n",
       "      <td>999</td>\n",
       "      <td>0</td>\n",
       "      <td>nonexistent</td>\n",
       "      <td>-0.1</td>\n",
       "      <td>93.200</td>\n",
       "      <td>-42.0</td>\n",
       "      <td>4.021</td>\n",
       "      <td>5195.8</td>\n",
       "      <td>no</td>\n",
       "      <td>0</td>\n",
       "    </tr>\n",
       "    <tr>\n",
       "      <th>9</th>\n",
       "      <td>50</td>\n",
       "      <td>entrepreneur</td>\n",
       "      <td>married</td>\n",
       "      <td>basic.9y</td>\n",
       "      <td>no</td>\n",
       "      <td>yes</td>\n",
       "      <td>no</td>\n",
       "      <td>telephone</td>\n",
       "      <td>may</td>\n",
       "      <td>thu</td>\n",
       "      <td>...</td>\n",
       "      <td>999</td>\n",
       "      <td>0</td>\n",
       "      <td>nonexistent</td>\n",
       "      <td>1.1</td>\n",
       "      <td>93.994</td>\n",
       "      <td>-36.4</td>\n",
       "      <td>4.855</td>\n",
       "      <td>5191.0</td>\n",
       "      <td>no</td>\n",
       "      <td>0</td>\n",
       "    </tr>\n",
       "  </tbody>\n",
       "</table>\n",
       "<p>10 rows × 22 columns</p>\n",
       "</div>"
      ],
      "text/plain": [
       "   age            job   marital            education default housing loan  \\\n",
       "0   37       services    single             basic.9y      no      no   no   \n",
       "1   53        retired   married          high.school      no     yes   no   \n",
       "2   31     technician   married    university.degree      no      no   no   \n",
       "3   29   entrepreneur    single  professional.course      no      no   no   \n",
       "4   49       services  divorced             basic.9y      no      no   no   \n",
       "5   70        retired  divorced          high.school      no     yes   no   \n",
       "6   30         admin.    single          high.school      no     yes   no   \n",
       "7   40  self-employed    single    university.degree      no     yes   no   \n",
       "8   46     technician  divorced    university.degree      no     yes   no   \n",
       "9   50   entrepreneur   married             basic.9y      no     yes   no   \n",
       "\n",
       "     contact month day_of_week  ...  pdays  previous     poutcome  \\\n",
       "0   cellular   may         tue  ...    999         0  nonexistent   \n",
       "1   cellular   jul         fri  ...    999         0  nonexistent   \n",
       "2   cellular   sep         thu  ...      3         1      success   \n",
       "3  telephone   jun         wed  ...    999         0  nonexistent   \n",
       "4  telephone   may         mon  ...    999         0  nonexistent   \n",
       "5  telephone   may         wed  ...      4         2      success   \n",
       "6   cellular   may         thu  ...    999         1      failure   \n",
       "7   cellular   jul         wed  ...    999         0  nonexistent   \n",
       "8   cellular   nov         fri  ...    999         0  nonexistent   \n",
       "9  telephone   may         thu  ...    999         0  nonexistent   \n",
       "\n",
       "   emp.var.rate cons.price.idx  cons.conf.idx  euribor3m  nr.employed  \\\n",
       "0          -1.8         92.893          -46.2      1.344       5099.1   \n",
       "1           1.4         93.918          -42.7      4.962       5228.1   \n",
       "2          -1.1         94.199          -37.5      0.878       4963.6   \n",
       "3           1.4         94.465          -41.8      4.962       5228.1   \n",
       "4           1.1         93.994          -36.4      4.858       5191.0   \n",
       "5          -1.8         93.876          -40.0      0.697       5008.7   \n",
       "6          -1.8         92.893          -46.2      1.266       5099.1   \n",
       "7           1.4         93.918          -42.7      4.963       5228.1   \n",
       "8          -0.1         93.200          -42.0      4.021       5195.8   \n",
       "9           1.1         93.994          -36.4      4.855       5191.0   \n",
       "\n",
       "   subscribe  Prediction  \n",
       "0         no           0  \n",
       "1         no           0  \n",
       "2        yes           1  \n",
       "3         no           0  \n",
       "4         no           0  \n",
       "5        yes           1  \n",
       "6         no           0  \n",
       "7        yes           1  \n",
       "8         no           0  \n",
       "9         no           0  \n",
       "\n",
       "[10 rows x 22 columns]"
      ]
     },
     "execution_count": 53,
     "metadata": {},
     "output_type": "execute_result"
    }
   ],
   "source": [
    "# Feature select\n",
    "data_inf_final = data_inf[['age', 'job', 'marital', 'education', 'housing', 'loan',\n",
    "       'contact', 'month', 'day_of_week', 'duration', 'campaign',\n",
    "       'previous', 'poutcome', 'cons.price.idx']]\n",
    "\n",
    "# Predicting\n",
    "y_pred_inf = pipe.predict(data_inf_final)\n",
    "\n",
    "# Concate between Inference-Set and Prediction\n",
    "data_inf_final = pd.concat([data_inf, pd.DataFrame(y_pred_inf, columns=['Prediction'])], axis=1)\n",
    "data_inf_final"
   ]
  },
  {
   "cell_type": "markdown",
   "metadata": {},
   "source": [
    "## *Kesimpulan*"
   ]
  },
  {
   "cell_type": "markdown",
   "metadata": {},
   "source": [
    "Untuk projek kali ini dataset yang digunakan adalah `Bank Marketing Dataset` dimana kita membuat model yang bisa meng-*classify* nasabah / klien akan deposit atau tidak berdasarkan marketing strategy yang dilakukan.\n",
    "\n",
    "Sumber dataset : [UCI Machine Learning Repository](https://archive.ics.uci.edu/ml/datasets/Bank+Marketing)\n",
    "\n",
    "Dataset ini memiliki 41188 baris dan 21 kolom / variabel dengan varian tipe data float, integer dan object. Tidak terdapat missing values di setiap kolomnya, namun terdapat unvalid value `unknown` yang selanjutnya telah dihapus di preprocessing data. \n",
    "\n",
    "Banyak fakta-fakta menarik yang kami peroleh saat mengeksplorasi dataset ini diantaranya :\n",
    "- Terdapat imbalance data di variabel target, yaitu klien tidak subscribe atau tidak deposit memiliki persentasi 88.7 persen dibandingkan klien yang akhirnya deposit sebanyak 11.3 persen.\n",
    "- Klien dengan pekerjaan di bagian `admin` adalah yang terbanyak sedangkan `housemaid` memiliki data paling sedikit\n",
    "- Sebagian besar klien bank status pernikahannya `married`\n",
    "- Level edukasi tertinggi adalah `University Degree` dan terendah `illiterate` atau buta huruf.\n",
    "- Metode marketing sebagian besar dilakukan by `cellular` dibandingkan by `telephone`\n",
    "- Karena sebagian besar klien tidak default (jumlah 32588) sedangkan klien default (jumlah 3) sangat sedikit, maka bisa diasumsikan fitur `default` ini akan memiliki nilai `feature importances` mendekati 0 atau tidak akan memberikan dampak yang signifikan dalam analisis lanjutan untuk case ini.\n",
    "- Data bulan may adalah yang paling banyak data desember yang paling sedikit.\n",
    "- Untuk data mingguan, senin dan kamis memiliki data paling banyak sedangkan jumat yang paling sedikit.\n",
    "- Variabel `duration`, `campaign`, dan `previous` sepertinya memiliki persebaran data yang sama. Selanjutnya `emp.var.rate` dan `euribor3m` juga memiliki kemiripan, seperti halnya variabel `cons.price.idx` dan `cons.conf.idx`.\n",
    "- Terdapat outliers di `age`, `duration`, `campaign`, `pdays`, `previous`, dan `cons.conf.idx`.\n",
    "- Lebih banyak klien yang deposit dengan durasi kontak lebih lama.\n",
    "- Campaign atau seberapa banyak pihak bank menghubungi klien itu berbanding terbalik dengan visi marketing yaitu menarik nasabah atau klien untuk deposit. Banyak campaign yang kurang berhasil jika dilihat dari banyaknya klien yang tidak deposit daripada klien deposit.\n",
    "- Banyak fitur-fitur numerik yang berkorelasi tinggi berdasarkan heatmap correlation.\n",
    "- dan mungkin masih banyak lagi fakta-fakta menarik yang bisa diekxplor lebih lanjut.\n",
    "\n",
    "Setelah itu dilakukan preprocessing dataset berdasarkan temuan eksplorasi di atas kemudian memilih fitur-fitur penting (important features) untuk modelling.\n",
    "\n",
    "Untuk project kali ini kami menggunakan Model ***Logistic Regression Classifier*** karena base model ini (model dengan default parameter) memberikan nilai cross validation terbaik dibandingkan 3 model pilihan lainnya yaitu ***Decission Tree***, ***KNN*** dan ***Gaussian NB***. Performansi Model `cukup baik` berdasarkan **accuracy** sekitar `90%` baik di train set dan test set, hal ini terjadi karena (mungkin) sebelum training model, kami mencari best parameter untuk model Logreg yang optimal dengan **gridsearch method**. Setalah mendapatkan best parameter, barulah kami train dan fit model dengan data yang dimiliki. Hasil accuracy seperti telah disebutkan sebelumnya yaitu `90%` baik di train dan test set, namun ada selisih yang cukup besar di nilai recall tiap kelas yang ada di variabel target. Hal ini terjadi karena ada class data imbalance, oleh karena itu kami mencoba melakukan resampling dataset dan memperolah hasil yang lebih baik di recall walaupun tingkat accuracy nya turun menjadi `85%` di train set dan `79%` di test set. \n",
    "\n",
    "Fakta menarik yang kami temui adalah nilai ROC-AUC sebelum resampling dataset berkisar `66%` dan setelah resampling dataset berkisar `84%`, sungguh kemajuan yang baik bukan?. Selanjutnya, performansi model menunujukkan precision 100 persen di data inference. Bisa disimpulkan bahwa model ini **Good Fit**.\n",
    "```python\n",
    "Jadi untuk model improvement selanjutnya, train model dengan data yang up to date atau yang lebih balance, serta melakukan hyperparameter tuning dengan lebih banyak kombinasi parameter.\n",
    "```\n",
    "\n",
    "Terima kasih!"
   ]
  }
 ],
 "metadata": {
  "kernelspec": {
   "display_name": "Python 3.10.2 64-bit",
   "language": "python",
   "name": "python3"
  },
  "language_info": {
   "codemirror_mode": {
    "name": "ipython",
    "version": 3
   },
   "file_extension": ".py",
   "mimetype": "text/x-python",
   "name": "python",
   "nbconvert_exporter": "python",
   "pygments_lexer": "ipython3",
   "version": "3.10.5"
  },
  "orig_nbformat": 4,
  "vscode": {
   "interpreter": {
    "hash": "213524bb45a1aeaf737b1d8c77d7b8db5d425938d9dffc5f4bc6fe6dd3324700"
   }
  }
 },
 "nbformat": 4,
 "nbformat_minor": 2
}
